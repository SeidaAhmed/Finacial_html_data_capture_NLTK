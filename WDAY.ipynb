{
  "cells": [
    {
      "cell_type": "markdown",
      "metadata": {
        "id": "view-in-github",
        "colab_type": "text"
      },
      "source": [
        "<a href=\"https://colab.research.google.com/github/SeidaAhmed/Finacial_html_data_capture_NLTK/blob/main/WDAY.ipynb\" target=\"_parent\"><img src=\"https://colab.research.google.com/assets/colab-badge.svg\" alt=\"Open In Colab\"/></a>"
      ]
    },
    {
      "cell_type": "code",
      "execution_count": 75,
      "metadata": {
        "id": "ZLfvIE8EOF9p"
      },
      "outputs": [],
      "source": [
        "metrics_8k=[\n",
        "\"https://www.sec.gov/Archives/edgar/data/1327811/000132781125000040/wday-1312025x991.htm\",\n",
        "#\"https://www.sec.gov/Archives/edgar/data/1327811/000132781125000030/wday-020525x991.htm\", don't have the reqquired data points\n",
        "\"https://www.sec.gov/Archives/edgar/data/1327811/000132781124000233/wday-10312024x991.htm\",\n",
        "\"https://www.sec.gov/Archives/edgar/data/1327811/000132781124000163/wday-07312024x991.htm\",\n",
        "\"https://www.sec.gov/Archives/edgar/data/1327811/000132781124000089/wday-04302024x991.htm\",\n",
        "\"https://www.sec.gov/Archives/edgar/data/1327811/000132781124000031/wday-1312024x991.htm\",\n",
        "\"https://www.sec.gov/Archives/edgar/data/1327811/000132781123000200/wday-10312023x991.htm\",\n",
        "\"https://www.sec.gov/Archives/edgar/data/1327811/000132781123000149/wday-07312023x991.htm\",\n",
        "\"https://www.sec.gov/Archives/edgar/data/1327811/000132781123000077/wday-04302023x991.htm\",\n",
        "\"https://www.sec.gov/Archives/edgar/data/1327811/000132781123000022/wday-01312023x991.htm\",\n",
        "\"https://www.sec.gov/Archives/edgar/data/1327811/000132781122000182/wday-10312022x991.htm\",\n",
        "\"https://www.sec.gov/Archives/edgar/data/1327811/000132781122000153/wday-07312022x991.htm\",\n",
        "\"https://www.sec.gov/Archives/edgar/data/1327811/000132781122000090/wday-04302022x991.htm\",\n",
        "\"https://www.sec.gov/Archives/edgar/data/1327811/000132781122000029/wday-01312022x991.htm\",\n",
        "\"https://www.sec.gov/Archives/edgar/data/1327811/000132781121000173/wday-10312021x991.htm\",\n",
        "\"https://www.sec.gov/Archives/edgar/data/1327811/000132781121000132/wday-07312021x991.htm\",\n",
        "\"https://www.sec.gov/Archives/edgar/data/1327811/000132781121000053/wday-04302021x991.htm\",\n",
        "\"https://www.sec.gov/Archives/edgar/data/1327811/000132781121000015/wday-1312021x991.htm\",\n",
        "\"https://www.sec.gov/Archives/edgar/data/1327811/000132781120000165/wday-10312020x991.htm\",\n",
        "\"https://www.sec.gov/Archives/edgar/data/1327811/000132781120000125/wday-7312020x991.htm\",\n",
        "\"https://www.sec.gov/Archives/edgar/data/1327811/000132781120000066/wday-4302020x991.htm\",\n",
        "\"https://www.sec.gov/Archives/edgar/data/1327811/000132781120000016/wday-1312020x991.htm\",\n",
        "\"https://www.sec.gov/Archives/edgar/data/1327811/000132781119000194/wday-10312019xexhibit9.htm\",\n",
        "\"https://www.sec.gov/Archives/edgar/data/1327811/000119312519234034/d768230dex991.htm\",\n",
        "\"https://www.sec.gov/Archives/edgar/data/1327811/000119312519158324/d700616dex991.htm\",\n",
        "#\"https://www.sec.gov/Archives/edgar/data/1327811/000119312519057546/d714677dex991.htm\",used different timeline formating fourth quarter\n",
        "\"https://www.sec.gov/Archives/edgar/data/1327811/000119312518338042/d664830dex991.htm\",\n",
        "\"https://www.sec.gov/Archives/edgar/data/1327811/000119312518266192/d618668dex991.htm\",\n",
        "\"https://www.sec.gov/Archives/edgar/data/1327811/000132781118000017/wday-04302018xexhibit991.htm\",\n",
        "\"https://www.sec.gov/Archives/edgar/data/1327811/000132781118000005/wday-1312018x991.htm\",\n",
        "\"https://www.sec.gov/Archives/edgar/data/1327811/000132781117000030/wday-10312017xexhibit991.htm\",\n",
        "\"https://www.sec.gov/Archives/edgar/data/1327811/000132781117000019/wday-07312017xexhibit991.htm\",\n",
        "\"https://www.sec.gov/Archives/edgar/data/1327811/000132781117000013/wday-04302017xexhibit991.htm\",\n",
        "\"https://www.sec.gov/Archives/edgar/data/1327811/000132781117000004/wday-1312017x991.htm\",\n",
        "\"https://www.sec.gov/Archives/edgar/data/1327811/000132781116000060/wday-10312016xexhibit991.htm\",\n",
        "\"https://www.sec.gov/Archives/edgar/data/1327811/000132781116000046/wday-07312016xexhibit991.htm\",\n",
        "\"https://www.sec.gov/Archives/edgar/data/1327811/000132781116000038/wday-04302016xexhibit991.htm\",\n",
        "\"https://www.sec.gov/Archives/edgar/data/1327811/000132781116000029/wday-1312016x991.htm\",\n",
        "\"https://www.sec.gov/Archives/edgar/data/1327811/000132781115000024/wday-10312015xexhibit991.htm\",\n",
        "\"https://www.sec.gov/Archives/edgar/data/1327811/000132781115000017/wday-07312015xexhibit991.htm\",\n",
        "\"https://www.sec.gov/Archives/edgar/data/1327811/000132781115000011/wday-04302015xexhibit991.htm\",\n",
        "\"https://www.sec.gov/Archives/edgar/data/1327811/000132781115000003/exhibit99120150225.htm\",\n",
        "\"https://www.sec.gov/Archives/edgar/data/1327811/000132781114000004/wday10312014-991.htm\",\n",
        "\"https://www.sec.gov/Archives/edgar/data/1327811/000119312514323722/d781646dex991.htm\",\n",
        "\"https://www.sec.gov/Archives/edgar/data/1327811/000119312514212967/d731529dex991.htm\",\n",
        "\"https://www.sec.gov/Archives/edgar/data/1327811/000119312514069729/d680227dex991.htm\",\n",
        "\"https://www.sec.gov/Archives/edgar/data/1327811/000119312513452987/d634015dex991.htm\",\n",
        "\"https://www.sec.gov/Archives/edgar/data/1327811/000119312513348276/d589858dex991.htm\",\n",
        "\"https://www.sec.gov/Archives/edgar/data/1327811/000119312513231691/d542012dex991.htm\",\n",
        "\"https://www.sec.gov/Archives/edgar/data/1327811/000119312513096065/d497397dex991.htm\",\n",
        "\"https://www.sec.gov/Archives/edgar/data/1327811/000119312512483848/d443532dex991.htm\"\n",
        "]\n",
        "\n",
        "metrics_8k=['https://www.sec.gov/Archives/edgar/data/1327811/000132781124000089/wday-04302024x991.htm']\n",
        "\n",
        "\n",
        "#12-month subscription revenue backlog\n",
        "#24-Month Subscription Revenue Backlog\n",
        "\n",
        "#Total subscription revenue backlog (in every same filing different element as above)\n",
        "#number of organizations that use it\n"
      ]
    },
    {
      "cell_type": "markdown",
      "metadata": {
        "id": "coB_5a08PETP"
      },
      "source": [
        "Important imports"
      ]
    },
    {
      "cell_type": "code",
      "execution_count": 76,
      "metadata": {
        "colab": {
          "base_uri": "https://localhost:8080/"
        },
        "id": "TBr5AhLKPJsL",
        "outputId": "5a066623-8004-4496-a1b9-a4452cf57efe"
      },
      "outputs": [
        {
          "output_type": "stream",
          "name": "stderr",
          "text": [
            "[nltk_data] Downloading package maxent_treebank_pos_tagger to\n",
            "[nltk_data]     /root/nltk_data...\n",
            "[nltk_data]   Package maxent_treebank_pos_tagger is already up-to-\n",
            "[nltk_data]       date!\n",
            "[nltk_data] Error loading path: Package 'path' not found in index\n",
            "[nltk_data] Downloading package punkt to /root/nltk_data...\n",
            "[nltk_data]   Package punkt is already up-to-date!\n",
            "[nltk_data] Downloading package stopwords to /root/nltk_data...\n",
            "[nltk_data]   Package stopwords is already up-to-date!\n",
            "[nltk_data] Downloading package averaged_perceptron_tagger_eng to\n",
            "[nltk_data]     /root/nltk_data...\n",
            "[nltk_data]   Package averaged_perceptron_tagger_eng is already up-to-\n",
            "[nltk_data]       date!\n",
            "[nltk_data] Downloading package punkt_tab to /root/nltk_data...\n",
            "[nltk_data]   Package punkt_tab is already up-to-date!\n"
          ]
        }
      ],
      "source": [
        "import nltk\n",
        "from nltk.corpus import stopwords\n",
        "from nltk.tokenize import word_tokenize\n",
        "import pandas as pd\n",
        "import requests\n",
        "from bs4 import BeautifulSoup\n",
        "try:\n",
        "    import urllib.request as urllib3\n",
        "    #requests.packages.urllib3.contrib.pyopenssl.extract_from_urllib3()\n",
        "except ImportError:\n",
        "    import urllib3\n",
        "import zlib\n",
        "from nltk import Tree\n",
        "import re\n",
        "nltk.download('maxent_treebank_pos_tagger')\n",
        "nltk.download('path')\n",
        "nltk.download('punkt')\n",
        "nltk.download('stopwords')\n",
        "nltk.download('averaged_perceptron_tagger_eng')\n",
        "nltk.download('punkt_tab')\n",
        "\n",
        "years = []\n",
        "for i in range(2000,2100):\n",
        "  years.append(i)\n",
        "unit_conv={\"billion\":1000000000, \"million\":1000000,\"millions\":1000000,\"thousand\":1000,\"%\":0.01,\"percentage\":0.01,\"percent\":0.01,\"\":1,\"basis points\":0.0001,\"bps\":0.0001}\n"
      ]
    },
    {
      "cell_type": "markdown",
      "metadata": {
        "id": "7uL7mmtLP3I0"
      },
      "source": [
        "Functions that should generally stay the same:"
      ]
    },
    {
      "cell_type": "code",
      "execution_count": 77,
      "metadata": {
        "id": "uXtUmNvJP6uI"
      },
      "outputs": [],
      "source": [
        "def extract_soup(url):\n",
        "\n",
        "    hdr = {'User-Agent': 'UbineerCorp info@ubineer.com','Accept-Encoding': 'gzip, deflate','host': 'www.sec.gov'}\n",
        "    s = requests.Session()\n",
        "    s.headers.update(hdr)\n",
        "    data = s.get(url)\n",
        "    s.close()\n",
        "    soup = BeautifulSoup(data.content, features=\"html.parser\")\n",
        "    return(soup)\n",
        "\n",
        "def openBS(html_file):\n",
        "\n",
        "  with open(html_file, encoding = \"ISO-8859-1\") as fp:\n",
        "\n",
        "    soup = BeautifulSoup(fp,'html.parser')\n",
        "\n",
        "  return soup\n",
        "\n",
        "def find_between( s, first, last ):\n",
        "    try:\n",
        "        start = s.index( first ) + len( first )\n",
        "        end = s.index( last, start )\n",
        "        return s[start:end]\n",
        "    except ValueError:\n",
        "        return \"\"\n",
        "\n",
        "def find_between_include(s, first, last, length):\n",
        "    try:\n",
        "        start = s.index( first ) - length\n",
        "        end = s.index( last, start )\n",
        "        return s[start:end]\n",
        "    except ValueError:\n",
        "        return \"\"\n",
        "\n",
        "\n",
        "def unitConversion(insert_lst):\n",
        "  value = None\n",
        "  insert_lst[0] = insert_lst[0].replace('flat','0%')\n",
        "  unit_conv={\"billion\":1000000000,\"million\":1000000,\"thousand\":1000,\"%\":0.01,\"percentage\":0.01,\"percent\":0.01,\"\":1,\"basis points\":0.0001,\"bps\":0.0001}\n",
        "  if len(insert_lst) != 2:\n",
        "\n",
        "    for unit in list(unit_conv.keys()):\n",
        "      if unit == '':\n",
        "        pass\n",
        "      elif unit in insert_lst[0]:\n",
        "        insert_lst = [str(insert_lst[0]).replace(unit,''), unit]\n",
        "\n",
        "\n",
        "\n",
        "  insert_lst[-1] =insert_lst[-1].lower()\n",
        "\n",
        "\n",
        "  insert_lst[0] = str(insert_lst[0]).replace(',','').replace('$','').replace('(','-').replace(')','').replace('%','').strip()\n",
        "  #Andi adds brackets\n",
        "\n",
        "\n",
        "  insert_lst[0] = float(insert_lst[0])\n",
        "\n",
        "  for ele in unit_conv.keys():\n",
        "    #print(ele)\n",
        "    if ele == insert_lst[-1]:\n",
        "      value = insert_lst[0] * unit_conv[ele]\n",
        "      #attempt to fix floating point error\n",
        "      value = round(value,4)\n",
        "    else:\n",
        "      pass\n",
        "  if value == None:\n",
        "    print(\"Value is None: \", insert_lst)\n",
        "  return value\n",
        "\n",
        "def change_pos_tag(tag_sentence,model):\n",
        "    new_tag_lst=[]\n",
        "    for ele in tag_sentence:\n",
        "        if ele[0] in model.keys():\n",
        "            new_tag_lst.append((ele[0],model[ele[0]]))\n",
        "        else:\n",
        "            new_tag_lst.append(ele)\n",
        "    return(new_tag_lst)\n",
        "\n",
        "def listofdict (tree):\n",
        "  # source: https://stackoverflow.com/questions/63945863/converting-nltk-chunks-to-a-list-of-dictionaries\n",
        "  # need helper function to simply put chunks into dictionaries\n",
        "    dlist = []\n",
        "    d = {}\n",
        "    for item in tree:\n",
        "\n",
        "        if isinstance(item, Tree):\n",
        "\n",
        "            d[item.label()] = ' '.join([l[0] for l in item.leaves()])\n",
        "            dlist.append(d) if len(d)>0 else None\n",
        "            d = dict()\n",
        "\n",
        "    dlist.append(d) if len(d)>0 else None\n",
        "    return dlist\n",
        "\n",
        "def find_segment(listofdict):\n",
        "    # helper function\n",
        "    tl = \"Timeline\"\n",
        "    tl_count = 0\n",
        "    segment = 0\n",
        "    for i in range(len(listofdict)):\n",
        "        if tl in listofdict[i].keys():\n",
        "            tl_count +=1\n",
        "            if tl_count == 2:\n",
        "                segment = i\n",
        "                return segment\n",
        "    return len(listofdict)\n",
        "\n",
        "def combine_dict(listofdict):\n",
        "  # merge messy dictionaries from stack overflow function\n",
        "    master_outlook = []\n",
        "\n",
        "    while(len(listofdict) > 0 ):\n",
        "        segment = find_segment(listofdict)\n",
        "\n",
        "        time_dict = {}\n",
        "        for i in range(segment):\n",
        "            time_dict.update(listofdict[i])\n",
        "\n",
        "        listofdict = listofdict[segment:]\n",
        "        master_outlook.append(time_dict)\n",
        "    return master_outlook"
      ]
    },
    {
      "cell_type": "markdown",
      "metadata": {
        "id": "ZYLDuNS4R5j7"
      },
      "source": [
        "Capture guidance function: This function captures all the text in the guidance section of the html file. It should generally stay the same unless the company has a weird format or you need to change out some specific words."
      ]
    },
    {
      "cell_type": "code",
      "execution_count": 78,
      "metadata": {
        "colab": {
          "base_uri": "https://localhost:8080/"
        },
        "id": "2mAk37vqSM-z",
        "outputId": "115ecf0d-3461-4f4f-d03d-e6f861cf0e18"
      },
      "outputs": [
        {
          "output_type": "stream",
          "name": "stdout",
          "text": [
            "\n"
          ]
        },
        {
          "output_type": "execute_result",
          "data": {
            "text/plain": [
              "['announces fiscal 2025 first quarter financial resultsfiscal first quarter total revenues of $1.990  billion, up 18.1 %  year over yearsubscription revenues of $1.815  billion, up 18.8 %  year over yearpleasanton, calif., may 23, 2024 – workday, inc. (nasdaq: wday), a leading provider of solutions to help organizations manage their people and money, today announced results for the fiscal 2025 first quarter ended april 30, 2024.fiscal 2025 first quarter results total revenues were $1.990  billion, an increase of 18.1 %  from the first quarter of fiscal 2024. subscription revenues were $1.815  billion, an increase of 18.8 %  from the same period last year. operating income was $64 million, or 3.2 %  of revenues, compared to an operating loss of $20 million, or negative 1.2 %  of revenues, in the same period last year. non-gaap operating income for the first quarter was $515 million, or 25.9 %  of revenues, compared to a non-gaap operating income of $396 million, or 23.5 %  of revenues, in the same period last year.1 diluted net income per share was $0.40 , compared to diluted net income per share of $0.00  in the first quarter of fiscal 2024. non-gaap diluted net income per share was $1.74 , compared to non-gaap diluted net income per share of $1.33  in the same period last year.1 12-month subscription revenue backlog was $6.60  billion, up 17.9 %  from the same period last year. total subscription revenue backlog was $20.68  billion, increasing 24.2 %  year-over-year.  operating cash flows were $372 million compared to $277 million in the prior year. free cash flows were $291 million compared to $218 million in the prior year.1 workday repurchased approximately 0.5 million  shares  of class a common stock for $134 million as part of its share repurchase programs. cash, cash equivalents, and marketable securities were $7.18  billion as of april 30, 2024.1see the section titled “about non-gaap financial measures” in the accompanying financial tables for further details.comments on the news“q1 was another solid quarter of revenue growth and non-gaap operating margin expansion for workday, as we drive toward long-term, durable growth,” said workday ceo carl eschenbach. “with the emergence of generative ai, the shifting talent landscape, and pressure to realize operational efficiencies, workday has never been more relevant. our strong value proposition, investments in key growth initiatives, and leadership in ai are paying off as more organizations turn to workday to manage their two most important assets – their people and money.”“our first quarter performance was in line with our expectations across our key financial metrics,”  said zane rowe, cfo, workday. “we were pleased with our progress across key growth initiatives in q1, which help build a foundation for long-term growth. our updated subscription revenue guidance reflects the elevated sales scrutiny and lower customer headcount growth we experienced during the quarter. at the same time, we are increasing our margin outlook as we focus on driving increased efficiencies across the company.”recent highlights workday is used by more than 60 %  of the fortune 500, including hpe, keybank, salesforce, and unum. workday added several full platform customers for workday financial management and workday human capital management (hcm), including city of milwaukee, h. lee moffitt cancer center, and the onin group. workday announced that the defense intelligence agency (dia), the key intelligence agency for national defense in the united states, has selected workday government cloud to support dia on its mission to rapidly accelerate recruitment and onboarding efforts.  workday completed its acquisition of hiredscore, giving the company a comprehensive ai-powered talent acquisition and internal mobility solution.  workday now has more than 50 ai use cases in production and 25 generative ai use cases on its roadmap. workday expanded its relationship with aws to include co-innovation across industries and enhanced go-to market investments, and formed a new partnership with google cloud, providing gcp customers access to purchase workday products through the google cloud marketplace. workday’s native payroll solution for customers in australia became generally available. workday received the gartner® peer insights™ customers’ choice distinction for cloud hcm suites for 1,000+ employee enterprises1 for the seventh consecutive year. the company was recognized as one of the 2024 world’s most ethical companies® by ethisphere for the fourth consecutive year. forbes named workday as one of america’s best employers for diversity.1gartner, voice of the customer for cloud hcm suites for 1,000+ employee enterprises, peer contributors, 8 april 2024financial outlookworkday is updating its guidance for the fiscal 2025 full year ending january 31, 2025 as follows: subscription revenue between $7.700  billion to $7.725  billion, representing growth of approximately 17 %   non-gaap operating margin of 25.0 % 1workday is providing guidance for the fiscal 2025 second quarter ending july 31, 2024 as follows: subscription revenue of $1.895  billion, representing growth of approximately 17 %   non-gaap operating margin of 24.5 % 11the company has not provided a reconciliation of its forward outlook for non-gaap operating margin with its forward-looking gaap operating margin in reliance on the unreasonable efforts exception provided under item 10(e)(1)(i)(b) of regulation s-k. the company is unable, without unreasonable efforts, to quantify share-based compensation expense, which is excluded from our non-gaap operating margin, as it requires additional inputs such as the number of  shares  granted and market prices that are not ascertainable.earnings call detailsworkday plans to host a conference call today to review its fiscal 2025 first quarter financial results and to discuss its financial outlook. the call is scheduled to begin at 1:30 p.m. pt/4:30 p.m. et and can be accessed via webcast. the webcast will be available live, and a replay will be available following completion of the live broadcast for approximately 90 days.workday uses the workday blog as a means of disclosing material non-public information and for complying with its disclosure obligations under regulation fd.about workdayworkday is a leading enterprise platform that helps organizations manage their most important assets – their people and money. the workday platform is built with ai at the core to help customers elevate people, supercharge work, and move their business forever forward. workday is used by more than 10,500 organizations around the world and across industries – from medium-sized businesses to more than 60 %  of the fortune 500. for more information about workday, visit workday.com.© 2024 workday, inc. all rights reserved. workday and the workday logo are registered trademarks of workday, inc. all other brand and product names are trademarks or registered trademarks of their respective holders.']"
            ]
          },
          "metadata": {},
          "execution_count": 78
        }
      ],
      "source": [
        "def captureGuidance(eightK_lst):\n",
        "    guidance_bs4_lst=[]\n",
        "    for ele in eightK_lst:\n",
        "\n",
        "        bs4_8K=extract_soup(ele)\n",
        "        #print(bs4_8K.prettify())\n",
        "        test= bs4_8K.get_text()\n",
        "        #print(len(test))\n",
        "        result = find_between( test,\"Workday\" , \"Use of Non-GAAP Financial Measures\" )\n",
        "        print(result)\n",
        "        if not result: # some companies call outlook guidance\n",
        "          result = find_between( test, \"Workday\", \"Forward-Looking Statements\")\n",
        "        # elif not result: # pltr is inbetween outlook and earnings webcast\n",
        "        #   result = find_between( test, \"Outlook\", \"Earnings\")\n",
        "\n",
        "\n",
        "        #print(bs4_8K.select(test.name+':contains(\"Financial Outlook\")'))\n",
        "        #print(result)\n",
        "        #print(bs4_8K.find(text=\"Quarterly Conference Call \").previous_element.parent)\n",
        "\n",
        "        result = re.sub(r'(\\d+)-(\\d+)', r'\\1 \\2', result)\n",
        "        result = re.sub(r'(\\$\\d+\\.\\d+)', r'\\1 ', result)\n",
        "        result = re.sub(r'\\b(low|mid|high|single|teens|to)-\\b', r'\\1 ', result)\n",
        "\n",
        "        replace = {'%':' % ','shares':' shares ','.For':' for','outstandingfull':' outstanding full ','20232exhibit':'2023 ','year over year':'year-over-year','millionfor':' million for ','\\n': ',' ,'full fiscal year':'full-fiscal-year','2020.fourth':'fourth',\n",
        "                '•': ' ','\\xa028':' ','\\xa017':' ','    ':'','◦':' ','million.':' million . ', '\\xa0':' ','%.': ' % .','\\uf0b7':' ','oRevenue':'revenue','oNon-GAAP':'non-gaap','●':' ','.Non-GAAP':'. non-gaap','.Revenues':'. revenues','breakeven':'$0'}\n",
        "        for word in replace:\n",
        "          result = result.replace(word,replace[word])\n",
        "        guidance_bs4_lst.append(result.strip().lower())\n",
        "    return guidance_bs4_lst\n",
        "\n",
        "metrics_data = captureGuidance(metrics_8k)\n",
        "metrics_data\n"
      ]
    },
    {
      "cell_type": "markdown",
      "metadata": {
        "id": "XKO64TKAUZeW"
      },
      "source": [
        "These are the custom chunking model words. This will vary depending on the company, but the core words will stay in here."
      ]
    },
    {
      "cell_type": "markdown",
      "metadata": {
        "id": "EYwNsUJA6JlQ"
      },
      "source": [
        "Filter sentence function: Will need to change the stop words depending on the context."
      ]
    },
    {
      "cell_type": "code",
      "execution_count": 79,
      "metadata": {
        "id": "t3C-uIY70-em"
      },
      "outputs": [],
      "source": [
        "\n",
        "model = {'first': 'CD', 'second': 'CD', 'third': 'CD', 'fourth': 'CD', 'total': 'CD', 'expected': 'expected', 'quarter': 'TIME', 'year': 'TIME', 'breakeven': 'CD', 'full':\n",
        "'CD', 'tax': 'tax', 'subscription': 'sub', 'billings': 'bill', 'billion': 'unit', 'revenue': 'rev', 'unit': 'unit', 'full-year': 'TIME', 'fiscal': 'TIME', 'million': 'unit',\n",
        "'share': 'share', 'shares': 'share', 'year-over-year': 'yoy', '%': '%', 'ebitda': 'ebitda', 'loss': 'loss', 'arr': 'arr', 'income': 'income', 'net': 'net', 'revenues': 'rev',\n",
        "'non-gaap': 'non-gaap', 'gaap': 'gaap', 'operating': 'op', 'margin': 'mar', 'services': 'ser', 'adjusted': 'adj', 'negative': 'negative', 'respectively': 'resp', 'basic': 'basic',\n",
        "'q1': 'TIME', 'q2': 'TIME', 'q3': 'TIME', 'q4': 'TIME', 'fy': 'TIME', 'expenses': 'expenses', 'quarter-over-quarter': 'qoq', 'expectation ': 'expect', 'gross': 'gross', 'growth': 'growth',\n",
        "'rate': 'rate', 'operations': 'op', 'operation': 'op', 'cash': 'cash', 'expenditures': 'expenses', 'provision': 'prov', 'thousand': 'unit', 'earning': 'earn', 'taxes': 'tax', 'expense': 'expenses',\n",
        "'interest': 'interest', 'subscriptions': 'sub', 'eps': 'eps', 'compensation': 'comp', 'amortization': 'amort', 'acquisition': 'acq', 'costs': 'cost', 'debt': 'debt', 'assumed': 'ass', 'common': 'com',\n",
        "'dec.': 'month', 'break-even': 'CD', 'free': 'free', 'flow': 'flow', 'annual': 'ann', 'cloud': 'cloud', 'positive': 'pos', 'zero': 'CD', 'comparable': 'comp', 'comp': 'comp', 'return': 'rtn', 'invested': 'inv',\n",
        "'capital': 'cap', 'dividend': 'div', 'payments': 'pay', 'target': 'target', 'consolidated': 'con','percent':'%','12-month':'12-month','24-month':'24-month','year24-month':'24-month',\n",
        "'repurchases': 'repur', 'repurchase': 'repur','repurchased': 'repur', 'repayments': 'repay', 'maturities': 'matur', 'reduced': 'reduce', 'reducing': 'reduce', 'planned': 'plan', 'percent': '%', 'investments': 'inv',\n",
        "'profit': 'profit', 'low-teens': 'CD', 'fromsource': 'src', 'organic': 'organic', 'expansion': 'growth', 'bps': 'bps', 'increase': 'growth', 'half': 'CD', 'back': 'CD', 'ending': 'end', 'ended': 'end', 'count': 'count',\n",
        "'even': 'CD', 'single': '%', 'percentage': '%', 'low': 'CD', 'mid': 'CD', 'high': 'CD', 'flat': 'CD', 'teens': '%', 'margins': 'mar', 'core': 'core', 'non-u.s.': 'non-gaap', 'outlook': 'outlook', 'â€”': ':', 'homes': 'home',\n",
        "'closed': 'closed', 'end': 'end', 'lower': 'reduce', 'sg': 'sg', 'pre-tax': 'pre-tax', 'increasing': 'growth', 'financial': 'financial', 'roic': 'roic', 'basis': 'basis', 'points': 'points', 'sales': 'sales', 'period': 'period',\n",
        " 'double-digit': 'CD', 'saas': 'saas', 'license': 'license', 'attributable': 'att', 'stockholders':  'stkhdr', 'hardware': 'hardware', 'reduce': 'reduce', 'stock': 'stk', 'restoration': 'restoration', 'continuing': 'continuing',\n",
        " 'intangibles': 'intan', 'non-cash': 'non-cash', 'stock-based': 'stk', 'service': 'ser', 'expectations': 'expect', 'aggregates': 'aggr', 'freight-adjusted': 'frtadj', 'price': 'price','organizations':'org', 'across':'acr','world':'world','industries':'ind',\n",
        "'digit': '%', 'asphalt': 'asphalt', 'concrete': 'concrete', 'calcium': 'calcium', 'sag': 'sag', 'depreciation': 'dpr', 'depletion': 'dpl', 'accretion': 'accr', 'shipment': 'spmt', 'cost': 'cost',\n",
        "'down': 'negative', 'up': 'pos', 'volume': 'vol', 'tons': 'tons', 'spending': 'spend', 'pricing': 'price', 'non-aggregates': 'non-aggr', 'improvement': 'growth', 'improve': 'growth', 'diluted': 'dil', 'earnings': 'earn',\n",
        "'foreign':'foreign','grew':'growth' , 'grow':'growth' ,'finance':'fin','currency':'currency','expect':'expect','marketable':'marketable','securities':'securities','headcount':'headcount','full-fiscal-year':'TIME' ,'ARR' : 'ARR', 'yearsubscription':'sub','backlog':'backlog'}\n",
        "\n",
        "model.update({'january': 'month', 'february': 'month', 'march': 'month', 'april': 'month', 'may': 'month', 'june': 'month','july': 'month', 'august': 'month', 'september': 'month', 'october': 'month', 'november': 'month', 'december': 'month'})\n",
        "#meta specific\n",
        "model.update({'ad':'ad','dap':'dap','daus':'daus','map':'map','maus':'maus','impressions':'impr'})"
      ]
    },
    {
      "cell_type": "code",
      "execution_count": 80,
      "metadata": {
        "id": "zdLcu4Ft50id"
      },
      "outputs": [],
      "source": [
        "def filter_sent(sentence, model):\n",
        "    custom_stop = [\"approximately\",\"/\", ',','information','available',\"'s\",'follows',':','range','outstanding','respectively','average','basic','weighted-average','representing','weighted','ending','roughly','~','assuming', 'including', 'principal','payments','leases','projected']\n",
        "    stop_words = set(stopwords.words(\"english\"))\n",
        "    filtered_sentence = []\n",
        "    for w in sentence:\n",
        "        if (w not in stop_words and w not in custom_stop) or (w in model.keys()):\n",
        "            filtered_sentence.append(w)\n",
        "    return filtered_sentence"
      ]
    },
    {
      "cell_type": "markdown",
      "metadata": {
        "id": "1SNzMoSe847Z"
      },
      "source": []
    },
    {
      "cell_type": "markdown",
      "metadata": {
        "id": "oY2XKUeNU9Fa"
      },
      "source": [
        "Chunking function: This is the most difficult function to write. Completely depends on the way the company writes their sentences. When writing this function it's best to print(tagged) to see what's being shown. During this stage changes may need to be made to the model and custom stop words, as well as the captureGuidance function."
      ]
    },
    {
      "cell_type": "code",
      "execution_count": 81,
      "metadata": {
        "id": "qXMOa0ujVc66"
      },
      "outputs": [],
      "source": [
        "def metrics_CHUNK(sentence, model):\n",
        "\n",
        "    tagged_raw = nltk.pos_tag(sentence)\n",
        "\n",
        "    tagged = change_pos_tag(tagged_raw,model) #https://www.guru99.com/pos-tagging-chunking-nltk.html\n",
        "    print(tagged)\n",
        "    chunk_rev = r\"\"\"\n",
        "    Timeline: {<month><CD><CD>}\n",
        "    Timeline: {<TIME><CD><CD><TIME>}\n",
        "\n",
        "    12-Month_Subs_Rev_Backlog: <12-month><sub><rev><backlog><\\$>{<CD>}<unit>\n",
        "    24-Month_Subs_Rev_Backlog:<24-month><sub><rev><backlog><\\$>{<CD>}<unit>\n",
        "    Total_Subs_Rev_Backlog:<sub><rev><backlog><\\$>{<CD>}<unit>\n",
        "    No_Org_Use: {<CD>}<org><IN><world><acr><ind>\n",
        "\"\"\"\n",
        "    chunkParserrev = nltk.RegexpParser(chunk_rev)\n",
        "    chunkedrev = chunkParserrev.parse(tagged)\n",
        "\n",
        "\n",
        "    return listofdict(chunkedrev)"
      ]
    },
    {
      "cell_type": "markdown",
      "metadata": {
        "id": "_JdvD40LVpuJ"
      },
      "source": [
        "Outlook function: I don't think this ever changes but I have only done one text company so far so I am including it here: This should end up giving a list of dictionaries that grouped together correctly. Make sure to check that the output is correct."
      ]
    },
    {
      "cell_type": "code",
      "execution_count": 82,
      "metadata": {
        "colab": {
          "base_uri": "https://localhost:8080/"
        },
        "id": "wLqjpDifXIDh",
        "outputId": "0875f4c6-08ee-4633-bc1c-7ce53809cf2c"
      },
      "outputs": [
        {
          "output_type": "stream",
          "name": "stdout",
          "text": [
            "[('announces', 'NNS'), ('fiscal', 'TIME'), ('2025', 'CD'), ('first', 'CD'), ('quarter', 'TIME'), ('financial', 'financial'), ('resultsfiscal', 'JJ'), ('first', 'CD'), ('quarter', 'TIME'), ('total', 'CD'), ('revenues', 'rev'), ('$', '$'), ('1.990', 'CD'), ('billion', 'unit'), ('up', 'pos'), ('18.1', 'CD'), ('%', '%'), ('year', 'TIME'), ('yearsubscription', 'sub'), ('revenues', 'rev'), ('$', '$'), ('1.815', 'CD'), ('billion', 'unit'), ('up', 'pos'), ('18.8', 'CD'), ('%', '%'), ('year', 'TIME'), ('yearpleasanton', 'NN'), ('calif.', 'NN'), ('may', 'month'), ('23', 'CD'), ('2024', 'CD'), ('–', 'NNP'), ('workday', 'JJ'), ('inc.', 'NN'), ('(', '('), ('nasdaq', 'JJ'), ('wday', 'NN'), (')', ')'), ('leading', 'VBG'), ('provider', 'NN'), ('solutions', 'NNS'), ('help', 'VBP'), ('organizations', 'org'), ('manage', 'VBP'), ('people', 'NNS'), ('money', 'NN'), ('today', 'NN'), ('announced', 'VBD'), ('results', 'NNS'), ('fiscal', 'TIME'), ('2025', 'CD'), ('first', 'CD'), ('quarter', 'TIME'), ('ended', 'end'), ('april', 'month'), ('30', 'CD'), ('2024.fiscal', 'JJ'), ('2025', 'CD'), ('first', 'CD'), ('quarter', 'TIME'), ('results', 'NNS'), ('total', 'CD'), ('revenues', 'rev'), ('$', '$'), ('1.990', 'CD'), ('billion', 'unit'), ('increase', 'growth'), ('18.1', 'CD'), ('%', '%'), ('first', 'CD'), ('quarter', 'TIME'), ('fiscal', 'TIME'), ('2024.', 'CD'), ('subscription', 'sub'), ('revenues', 'rev'), ('$', '$'), ('1.815', 'CD'), ('billion', 'unit'), ('increase', 'growth'), ('18.8', 'CD'), ('%', '%'), ('period', 'period'), ('last', 'JJ'), ('year', 'TIME'), ('.', '.'), ('operating', 'op'), ('income', 'income'), ('$', '$'), ('64', 'CD'), ('million', 'unit'), ('3.2', 'CD'), ('%', '%'), ('revenues', 'rev'), ('compared', 'VBN'), ('operating', 'op'), ('loss', 'loss'), ('$', '$'), ('20', 'CD'), ('million', 'unit'), ('negative', 'negative'), ('1.2', 'CD'), ('%', '%'), ('revenues', 'rev'), ('period', 'period'), ('last', 'JJ'), ('year', 'TIME'), ('.', '.'), ('non-gaap', 'non-gaap'), ('operating', 'op'), ('income', 'income'), ('first', 'CD'), ('quarter', 'TIME'), ('$', '$'), ('515', 'CD'), ('million', 'unit'), ('25.9', 'CD'), ('%', '%'), ('revenues', 'rev'), ('compared', 'VBN'), ('non-gaap', 'non-gaap'), ('operating', 'op'), ('income', 'income'), ('$', '$'), ('396', 'CD'), ('million', 'unit'), ('23.5', 'CD'), ('%', '%'), ('revenues', 'rev'), ('period', 'period'), ('last', 'JJ'), ('year.1', 'NN'), ('diluted', 'dil'), ('net', 'net'), ('income', 'income'), ('per', 'IN'), ('share', 'share'), ('$', '$'), ('0.40', 'CD'), ('compared', 'VBN'), ('diluted', 'dil'), ('net', 'net'), ('income', 'income'), ('per', 'IN'), ('share', 'share'), ('$', '$'), ('0.00', 'CD'), ('first', 'CD'), ('quarter', 'TIME'), ('fiscal', 'TIME'), ('2024.', 'CD'), ('non-gaap', 'non-gaap'), ('diluted', 'dil'), ('net', 'net'), ('income', 'income'), ('per', 'IN'), ('share', 'share'), ('$', '$'), ('1.74', 'CD'), ('compared', 'VBN'), ('non-gaap', 'non-gaap'), ('diluted', 'dil'), ('net', 'net'), ('income', 'income'), ('per', 'IN'), ('share', 'share'), ('$', '$'), ('1.33', 'CD'), ('period', 'period'), ('last', 'JJ'), ('year.1', 'JJ'), ('12-month', '12-month'), ('subscription', 'sub'), ('revenue', 'rev'), ('backlog', 'backlog'), ('$', '$'), ('6.60', 'CD'), ('billion', 'unit'), ('up', 'pos'), ('17.9', 'CD'), ('%', '%'), ('period', 'period'), ('last', 'JJ'), ('year', 'TIME'), ('.', '.'), ('total', 'CD'), ('subscription', 'sub'), ('revenue', 'rev'), ('backlog', 'backlog'), ('$', '$'), ('20.68', 'CD'), ('billion', 'unit'), ('increasing', 'growth'), ('24.2', 'CD'), ('%', '%'), ('year-over-year', 'yoy'), ('.', '.'), ('operating', 'op'), ('cash', 'cash'), ('flows', 'VBZ'), ('$', '$'), ('372', 'CD'), ('million', 'unit'), ('compared', 'VBN'), ('$', '$'), ('277', 'CD'), ('million', 'unit'), ('prior', 'JJ'), ('year', 'TIME'), ('.', '.'), ('free', 'free'), ('cash', 'cash'), ('flows', 'VBZ'), ('$', '$'), ('291', 'CD'), ('million', 'unit'), ('compared', 'VBN'), ('$', '$'), ('218', 'CD'), ('million', 'unit'), ('prior', 'JJ'), ('year.1', 'NNS'), ('workday', 'VBP'), ('repurchased', 'repur'), ('0.5', 'CD'), ('million', 'unit'), ('shares', 'share'), ('class', 'NN'), ('common', 'com'), ('stock', 'stk'), ('$', '$'), ('134', 'CD'), ('million', 'unit'), ('part', 'NN'), ('share', 'share'), ('repurchase', 'repur'), ('programs', 'NNS'), ('.', '.'), ('cash', 'cash'), ('cash', 'cash'), ('equivalents', 'NNS'), ('marketable', 'marketable'), ('securities', 'securities'), ('$', '$'), ('7.18', 'CD'), ('billion', 'unit'), ('april', 'month'), ('30', 'CD'), ('2024.1see', 'CD'), ('section', 'NN'), ('titled', 'VBN'), ('“', 'JJ'), ('non-gaap', 'non-gaap'), ('financial', 'financial'), ('measures', 'NNS'), ('”', 'IN'), ('accompanying', 'VBG'), ('financial', 'financial'), ('tables', 'NNS'), ('details.comments', 'NNS'), ('news', 'NN'), ('“', 'NNP'), ('q1', 'TIME'), ('another', 'DT'), ('solid', 'JJ'), ('quarter', 'TIME'), ('revenue', 'rev'), ('growth', 'growth'), ('non-gaap', 'non-gaap'), ('operating', 'op'), ('margin', 'mar'), ('expansion', 'growth'), ('workday', 'NN'), ('drive', 'NN'), ('toward', 'IN'), ('long-term', 'JJ'), ('durable', 'JJ'), ('growth', 'growth'), ('”', 'NNP'), ('said', 'VBD'), ('workday', 'JJ'), ('ceo', 'NN'), ('carl', 'NN'), ('eschenbach', 'NN'), ('.', '.'), ('“', 'JJ'), ('emergence', 'NN'), ('generative', 'JJ'), ('ai', 'NN'), ('shifting', 'VBG'), ('talent', 'NN'), ('landscape', 'NN'), ('pressure', 'NN'), ('realize', 'VBP'), ('operational', 'JJ'), ('efficiencies', 'NNS'), ('workday', 'VBP'), ('never', 'RB'), ('relevant', 'JJ'), ('.', '.'), ('strong', 'JJ'), ('value', 'NN'), ('proposition', 'NN'), ('investments', 'inv'), ('key', 'JJ'), ('growth', 'growth'), ('initiatives', 'NNS'), ('leadership', 'NN'), ('ai', 'VBP'), ('paying', 'VBG'), ('organizations', 'org'), ('turn', 'VBP'), ('workday', 'JJ'), ('manage', 'NN'), ('two', 'CD'), ('important', 'JJ'), ('assets', 'NNS'), ('–', 'VBP'), ('people', 'NNS'), ('money.', 'VBP'), ('”', 'JJ'), ('“', 'NNP'), ('first', 'CD'), ('quarter', 'TIME'), ('performance', 'NN'), ('line', 'NN'), ('expectations', 'expect'), ('across', 'acr'), ('key', 'JJ'), ('financial', 'financial'), ('metrics', 'NNS'), ('”', 'NN'), ('said', 'VBD'), ('zane', 'NNP'), ('rowe', 'NN'), ('cfo', 'NN'), ('workday', 'NN'), ('.', '.'), ('“', 'NN'), ('pleased', 'JJ'), ('progress', 'NN'), ('across', 'acr'), ('key', 'JJ'), ('growth', 'growth'), ('initiatives', 'NNS'), ('q1', 'TIME'), ('help', 'NN'), ('build', 'VB'), ('foundation', 'NN'), ('long-term', 'JJ'), ('growth', 'growth'), ('.', '.'), ('updated', 'VBN'), ('subscription', 'sub'), ('revenue', 'rev'), ('guidance', 'NN'), ('reflects', 'VBZ'), ('elevated', 'JJ'), ('sales', 'sales'), ('scrutiny', 'VBP'), ('lower', 'reduce'), ('customer', 'NN'), ('headcount', 'headcount'), ('growth', 'growth'), ('experienced', 'JJ'), ('quarter', 'TIME'), ('.', '.'), ('time', 'NN'), ('increasing', 'growth'), ('margin', 'mar'), ('outlook', 'outlook'), ('focus', 'NN'), ('driving', 'VBG'), ('increased', 'JJ'), ('efficiencies', 'NNS'), ('across', 'acr'), ('company.', 'NN'), ('”', 'NNP'), ('recent', 'JJ'), ('highlights', 'NNS'), ('workday', 'VBP'), ('used', 'VBN'), ('60', 'CD'), ('%', '%'), ('fortune', 'NN'), ('500', 'CD'), ('hpe', 'NN'), ('keybank', 'NN'), ('salesforce', 'NN'), ('unum', 'NN'), ('.', '.'), ('workday', 'NN'), ('added', 'VBD'), ('several', 'JJ'), ('full', 'CD'), ('platform', 'NN'), ('customers', 'NNS'), ('workday', 'VBP'), ('financial', 'financial'), ('management', 'NN'), ('workday', 'NN'), ('human', 'JJ'), ('capital', 'cap'), ('management', 'NN'), ('(', '('), ('hcm', 'NN'), (')', ')'), ('city', 'NN'), ('milwaukee', 'NN'), ('h.', 'NN'), ('lee', 'NN'), ('moffitt', 'NN'), ('cancer', 'NN'), ('center', 'NN'), ('onin', 'NN'), ('group', 'NN'), ('.', '.'), ('workday', 'NN'), ('announced', 'VBD'), ('defense', 'NN'), ('intelligence', 'NN'), ('agency', 'NN'), ('(', '('), ('dia', 'NN'), (')', ')'), ('key', 'NN'), ('intelligence', 'NN'), ('agency', 'NN'), ('national', 'JJ'), ('defense', 'NN'), ('united', 'JJ'), ('states', 'NNS'), ('selected', 'VBN'), ('workday', 'JJ'), ('government', 'NN'), ('cloud', 'cloud'), ('support', 'NN'), ('dia', 'VBZ'), ('mission', 'NN'), ('rapidly', 'RB'), ('accelerate', 'JJ'), ('recruitment', 'NN'), ('onboarding', 'VBG'), ('efforts', 'NNS'), ('.', '.'), ('workday', 'NN'), ('completed', 'VBD'), ('acquisition', 'acq'), ('hiredscore', 'NN'), ('giving', 'VBG'), ('company', 'NN'), ('comprehensive', 'JJ'), ('ai-powered', 'JJ'), ('talent', 'NN'), ('acquisition', 'acq'), ('internal', 'JJ'), ('mobility', 'NN'), ('solution', 'NN'), ('.', '.'), ('workday', 'JJ'), ('50', 'CD'), ('ai', 'NN'), ('use', 'NN'), ('cases', 'NNS'), ('production', 'NN'), ('25', 'CD'), ('generative', 'JJ'), ('ai', 'NN'), ('use', 'NN'), ('cases', 'NNS'), ('roadmap', 'VBP'), ('.', '.'), ('workday', 'NN'), ('expanded', 'VBD'), ('relationship', 'NN'), ('aws', 'NNS'), ('include', 'VBP'), ('co-innovation', 'NN'), ('across', 'acr'), ('industries', 'ind'), ('enhanced', 'VBD'), ('go-to', 'JJ'), ('market', 'NN'), ('investments', 'inv'), ('formed', 'VBD'), ('new', 'JJ'), ('partnership', 'NN'), ('google', 'NN'), ('cloud', 'cloud'), ('providing', 'VBG'), ('gcp', 'NN'), ('customers', 'NNS'), ('access', 'NN'), ('purchase', 'NN'), ('workday', 'NN'), ('products', 'NNS'), ('google', 'VBP'), ('cloud', 'cloud'), ('marketplace', 'NN'), ('.', '.'), ('workday', 'JJ'), ('’', 'NNP'), ('native', 'JJ'), ('payroll', 'NN'), ('solution', 'NN'), ('customers', 'NNS'), ('australia', 'VBP'), ('became', 'VBD'), ('generally', 'RB'), ('.', '.'), ('workday', 'JJ'), ('received', 'VBD'), ('gartner®', 'JJ'), ('peer', 'NN'), ('insights™', 'NN'), ('customers', 'NNS'), ('’', 'VBP'), ('choice', 'NN'), ('distinction', 'NN'), ('cloud', 'cloud'), ('hcm', 'NN'), ('suites', 'VBZ'), ('1,000+', 'CD'), ('employee', 'NN'), ('enterprises1', 'NNS'), ('seventh', 'RBR'), ('consecutive', 'JJ'), ('year', 'TIME'), ('.', '.'), ('company', 'NN'), ('recognized', 'VBD'), ('one', 'CD'), ('2024', 'CD'), ('world', 'world'), ('’', 'NNP'), ('ethical', 'JJ'), ('companies®', 'NN'), ('ethisphere', 'RB'), ('fourth', 'CD'), ('consecutive', 'JJ'), ('year', 'TIME'), ('.', '.'), ('forbes', 'NN'), ('named', 'VBN'), ('workday', 'JJ'), ('one', 'CD'), ('america', 'NN'), ('’', 'NN'), ('best', 'JJS'), ('employers', 'NNS'), ('diversity.1gartner', 'VBP'), ('voice', 'NN'), ('customer', 'NN'), ('cloud', 'cloud'), ('hcm', 'NN'), ('suites', 'VBZ'), ('1,000+', 'CD'), ('employee', 'NN'), ('enterprises', 'NNS'), ('peer', 'VBP'), ('contributors', 'NNS'), ('8', 'CD'), ('april', 'month'), ('2024financial', 'CD'), ('outlookworkday', 'JJ'), ('updating', 'VBG'), ('guidance', 'NN'), ('fiscal', 'TIME'), ('2025', 'CD'), ('full', 'CD'), ('year', 'TIME'), ('ending', 'end'), ('january', 'month'), ('31', 'CD'), ('2025', 'CD'), ('subscription', 'sub'), ('revenue', 'rev'), ('$', '$'), ('7.700', 'CD'), ('billion', 'unit'), ('$', '$'), ('7.725', 'CD'), ('billion', 'unit'), ('growth', 'growth'), ('17', 'CD'), ('%', '%'), ('non-gaap', 'non-gaap'), ('operating', 'op'), ('margin', 'mar'), ('25.0', 'CD'), ('%', '%'), ('1workday', 'CD'), ('providing', 'NN'), ('guidance', 'NN'), ('fiscal', 'TIME'), ('2025', 'CD'), ('second', 'CD'), ('quarter', 'TIME'), ('ending', 'end'), ('july', 'month'), ('31', 'CD'), ('2024', 'CD'), ('subscription', 'sub'), ('revenue', 'rev'), ('$', '$'), ('1.895', 'CD'), ('billion', 'unit'), ('growth', 'growth'), ('17', 'CD'), ('%', '%'), ('non-gaap', 'non-gaap'), ('operating', 'op'), ('margin', 'mar'), ('24.5', 'CD'), ('%', '%'), ('11the', 'CD'), ('company', 'NN'), ('provided', 'VBD'), ('reconciliation', 'NN'), ('forward', 'RB'), ('outlook', 'outlook'), ('non-gaap', 'non-gaap'), ('operating', 'op'), ('margin', 'mar'), ('forward-looking', 'JJ'), ('gaap', 'gaap'), ('operating', 'op'), ('margin', 'mar'), ('reliance', 'NN'), ('unreasonable', 'JJ'), ('efforts', 'NNS'), ('exception', 'NN'), ('provided', 'VBD'), ('item', 'NN'), ('10', 'CD'), ('(', '('), ('e', 'NN'), (')', ')'), ('(', '('), ('1', 'CD'), (')', ')'), ('(', '('), (')', ')'), ('(', '('), ('b', 'NN'), (')', ')'), ('regulation', 'NN'), ('s-k.', 'JJ'), ('company', 'NN'), ('unable', 'JJ'), ('without', 'IN'), ('unreasonable', 'JJ'), ('efforts', 'NNS'), ('quantify', 'VB'), ('share-based', 'JJ'), ('compensation', 'comp'), ('expense', 'expenses'), ('excluded', 'VBD'), ('non-gaap', 'non-gaap'), ('operating', 'op'), ('margin', 'mar'), ('requires', 'VBZ'), ('additional', 'JJ'), ('inputs', 'NNS'), ('number', 'NN'), ('shares', 'share'), ('granted', 'VBN'), ('market', 'NN'), ('prices', 'NNS'), ('ascertainable.earnings', 'RP'), ('call', 'NN'), ('detailsworkday', 'NN'), ('plans', 'VBZ'), ('host', 'JJ'), ('conference', 'NN'), ('call', 'NN'), ('today', 'NN'), ('review', 'VBP'), ('fiscal', 'TIME'), ('2025', 'CD'), ('first', 'CD'), ('quarter', 'TIME'), ('financial', 'financial'), ('results', 'NNS'), ('discuss', 'VBP'), ('financial', 'financial'), ('outlook', 'outlook'), ('.', '.'), ('call', 'VB'), ('scheduled', 'JJ'), ('begin', 'NN'), ('1:30', 'CD'), ('p.m.', 'NN'), ('pt/4:30', 'NN'), ('p.m.', 'NN'), ('et', 'NN'), ('accessed', 'VBD'), ('via', 'IN'), ('webcast', 'NN'), ('.', '.'), ('webcast', 'JJ'), ('live', 'JJ'), ('replay', 'NN'), ('following', 'VBG'), ('completion', 'NN'), ('live', 'JJ'), ('broadcast', 'NN'), ('90', 'CD'), ('days.workday', 'JJ'), ('uses', 'NNS'), ('workday', 'VBP'), ('blog', 'NN'), ('means', 'NNS'), ('disclosing', 'VBG'), ('material', 'JJ'), ('non-public', 'JJ'), ('complying', 'NN'), ('disclosure', 'NN'), ('obligations', 'NNS'), ('regulation', 'NN'), ('fd.about', 'NN'), ('workdayworkday', 'NN'), ('leading', 'VBG'), ('enterprise', 'NN'), ('platform', 'NN'), ('helps', 'VBZ'), ('organizations', 'org'), ('manage', 'NN'), ('important', 'JJ'), ('assets', 'NNS'), ('–', 'VBP'), ('people', 'NNS'), ('money', 'NN'), ('.', '.'), ('workday', 'JJ'), ('platform', 'NN'), ('built', 'VBN'), ('ai', 'RB'), ('core', 'core'), ('help', 'NN'), ('customers', 'NNS'), ('elevate', 'VBP'), ('people', 'NNS'), ('supercharge', 'VBP'), ('work', 'JJ'), ('move', 'NN'), ('business', 'NN'), ('forever', 'RB'), ('forward', 'RB'), ('.', '.'), ('workday', 'NN'), ('used', 'VBD'), ('10,500', 'CD'), ('organizations', 'org'), ('around', 'IN'), ('world', 'world'), ('across', 'acr'), ('industries', 'ind'), ('–', 'VBP'), ('medium-sized', 'JJ'), ('businesses', 'NNS'), ('60', 'CD'), ('%', '%'), ('fortune', 'NN'), ('500.', 'CD'), ('workday', 'JJ'), ('visit', 'NN'), ('workday.com.©', 'NN'), ('2024', 'CD'), ('workday', 'NN'), ('inc.', 'VB'), ('rights', 'NNS'), ('reserved', 'VBN'), ('.', '.'), ('workday', 'JJ'), ('workday', 'JJ'), ('logo', 'NN'), ('registered', 'VBD'), ('trademarks', 'NNS'), ('workday', 'JJ'), ('inc.', 'JJ'), ('brand', 'NN'), ('product', 'NN'), ('names', 'NNS'), ('trademarks', 'NNS'), ('registered', 'VBD'), ('trademarks', 'NNS'), ('respective', 'JJ'), ('holders', 'NNS'), ('.', '.')]\n"
          ]
        },
        {
          "output_type": "execute_result",
          "data": {
            "text/plain": [
              "[{'Timeline': 'fiscal 2025 first quarter'},\n",
              " {'Timeline': 'may 23 2024'},\n",
              " {'Timeline': 'fiscal 2025 first quarter',\n",
              "  '12-Month_Subs_Rev_Backlog': '6.60',\n",
              "  'Total_Subs_Rev_Backlog': '20.68'},\n",
              " {'Timeline': 'april 30 2024.1see'},\n",
              " {'Timeline': 'fiscal 2025 full year'},\n",
              " {'Timeline': 'january 31 2025'},\n",
              " {'Timeline': 'fiscal 2025 second quarter'},\n",
              " {'Timeline': 'july 31 2024'},\n",
              " {'Timeline': 'fiscal 2025 first quarter', 'No_Org_Use': '10,500'}]"
            ]
          },
          "metadata": {},
          "execution_count": 82
        }
      ],
      "source": [
        "\n",
        "def metrics_info(data):\n",
        "    Total_Outlook = []\n",
        "    for i in range(len(data)):\n",
        "        if data[i] != '':\n",
        "            list_dict_chunks = metrics_CHUNK(filter_sent(word_tokenize((data[i])),model),model)\n",
        "            Total_Outlook.extend(combine_dict(list_dict_chunks))\n",
        "\n",
        "    return Total_Outlook\n",
        "\n",
        "raw_info = metrics_info(metrics_data)\n",
        "raw_info\n",
        "\n"
      ]
    },
    {
      "cell_type": "markdown",
      "metadata": {
        "id": "zMWaigutXgJl"
      },
      "source": [
        "Process function: Once all the data is in the correct dictionary, it needs to go through this process function to extract specifically the numbers. Uses the unitConversion function that's defined higher up"
      ]
    },
    {
      "cell_type": "code",
      "execution_count": 83,
      "metadata": {
        "id": "R9-iYKOCYKXG"
      },
      "outputs": [],
      "source": [
        "def process(raw_info_dict): #If you ever find an error with this function let @Maxime know ASAP\n",
        "    temp_dict = {}\n",
        "    if \"Drop\" in raw_info_dict.keys():\n",
        "      raw_info_dict.pop(\"Drop\")\n",
        "\n",
        "    if len(raw_info_dict)>1:\n",
        "        temp_dict = {}\n",
        "        temp_dict[\"Timeline\"] = raw_info_dict[\"Timeline\"]\n",
        "\n",
        "        for key, value in raw_info_dict.items():\n",
        "          value = value.replace(\"low teens\", \"11 % 13 %\")\n",
        "          value = value.replace(\"high teens\",\"17 % 19 %\" )\n",
        "          value = value.replace(\"mid teens\", \"14 % 16 %\")\n",
        "          value = re.sub(r'(\\d+)-(\\d+)', r'\\1 \\2', value)#remove dash between two numbers\n",
        "          arr = value.split()\n",
        "          prefix = 1\n",
        "          vals = []\n",
        "          if (len(arr) == 0 or key==\"Timeline\"):\n",
        "            continue\n",
        "          conversions = [] #case where there are multiple conversions in the same captured data\n",
        "          conversion = ''\n",
        "          #Find unit conversion\n",
        "          for i, elem in enumerate(arr):\n",
        "            if elem == 'breakeven' or elem == 'break-even' or elem == 'zero': #replace words meaning 0\n",
        "              arr[i] = '0'\n",
        "            if elem in unit_conv.keys():\n",
        "              conversion = elem\n",
        "              conversions.append(conversion)\n",
        "          # Check if unit conversion is in key\n",
        "          if conversion == '':\n",
        "            for word in key.split():\n",
        "              if word.replace(\"(\",\"\").replace(\")\",\"\") in unit_conv.keys(): #Replace unit conversion in key, ie. if key is \"Revenue (in millions)\", it should be \"Revenue\"\n",
        "                conversion = word.replace(\"(\",\"\").replace(\")\",\"\")\n",
        "                conversions.append(conversion)\n",
        "\n",
        "          if len(conversions) == 0:\n",
        "            conversions.append('')\n",
        "\n",
        "          if len(set(conversions)) > 1:\n",
        "            multi = True\n",
        "          else:\n",
        "            multi = False\n",
        "\n",
        "          # regex finds () and [] brackets\n",
        "          key = re.sub(\"\\(.*?\\)|\\[.*?\\]\",\"\", key)\n",
        "          #Check if numbers should be negative\n",
        "          if (\"loss\" in arr) or (\"negative\" in arr) or (\"decrease\" in arr):\n",
        "            prefix = -1\n",
        "          conv_num = 0\n",
        "          #Find values (should be 1 or 2)\n",
        "\n",
        "\n",
        "          # IMPROVED HANDLING OF NEGATIVE AND POSITIVE VALS IN SAME CHUNK - by Jack Li\n",
        "          ignore_set = ['$']\n",
        "          switch = False\n",
        "          negative = False\n",
        "          state = 0\n",
        "          for elem in arr:\n",
        "            if \"(\" in elem and state == 0:\n",
        "              state = 1\n",
        "            if (elem.replace(\".\",\"\").replace(\",\",\"\").replace(\"$\",\"\").replace('(','').replace(')','').replace('%','').isdigit() and state == 1) or (elem == 'loss' and state == 1):\n",
        "              state = 2\n",
        "            if \")\" in elem and state == 1:\n",
        "              state = 0\n",
        "            if \")\" in elem and state == 2:\n",
        "              switch = True\n",
        "              break\n",
        "\n",
        "          pos_search = False\n",
        "\n",
        "          if switch is False:\n",
        "            for elem in arr:\n",
        "              if elem == 'positive':\n",
        "                pos_search = True\n",
        "                continue\n",
        "              if pos_search:\n",
        "                if (not elem.replace(\".\",\"\").replace(\",\",\"\").replace(\"$\",\"\").replace('(','').replace(')','').replace('%','').replace('-','').replace('~','').isdigit()) and (elem not in ignore_set):\n",
        "                  pos_search = False\n",
        "\n",
        "              if elem.replace(\".\",\"\").replace(\",\",\"\").replace(\"$\",\"\").replace('(','').replace(')','').replace('%','').replace('-','').replace('~','').isdigit():\n",
        "                if pos_search:\n",
        "                  vals.append(unitConversion([elem, conversions[conv_num]]))\n",
        "                  if multi: conv_num += 1\n",
        "                  pos_search = False\n",
        "                else:\n",
        "                  vals.append(unitConversion([elem, conversions[conv_num]])*prefix)\n",
        "                  if multi: conv_num += 1\n",
        "          else:\n",
        "            for elem in arr:\n",
        "              if \"(\" in elem:\n",
        "                negative = True\n",
        "              if \")\" in elem:\n",
        "                negative = False\n",
        "              if elem.replace(\".\",\"\").replace(\",\",\"\").replace(\"$\",\"\").replace('(','').replace(')','').replace('%','').replace('-','').replace('~','').isdigit():\n",
        "                if (negative):\n",
        "                  vals.append(unitConversion([elem, conversions[conv_num]])*-1)\n",
        "                  if multi: conv_num += 1\n",
        "                else:\n",
        "                  vals.append(unitConversion([elem, conversions[conv_num]]))\n",
        "                  if multi: conv_num += 1\n",
        "\n",
        "          if max(vals)-min(vals) > 100 * unit_conv[conversion]:\n",
        "            for val in vals:\n",
        "              if val/unit_conv[conversion] in years:\n",
        "                  vals.remove(val)\n",
        "                  break\n",
        "\n",
        "          temp_dict[key] = max(vals)\n",
        "          #temp_dict[key+\" Lower\"] = min(vals)\n",
        "\n",
        "    return temp_dict"
      ]
    },
    {
      "cell_type": "markdown",
      "metadata": {
        "id": "mcaAD-3fZlbM"
      },
      "source": []
    },
    {
      "cell_type": "code",
      "execution_count": 84,
      "metadata": {
        "colab": {
          "base_uri": "https://localhost:8080/"
        },
        "id": "I7Cla6fCZhJ3",
        "outputId": "318689a2-ee51-4ee6-cda5-7f55c21201fd"
      },
      "outputs": [
        {
          "output_type": "execute_result",
          "data": {
            "text/plain": [
              "[{'Timeline': 'fiscal 2025 first quarter',\n",
              "  '12-Month_Subs_Rev_Backlog': 6.6,\n",
              "  'Total_Subs_Rev_Backlog': 20.68},\n",
              " {'Timeline': 'fiscal 2025 first quarter', 'No_Org_Use': 10500.0}]"
            ]
          },
          "metadata": {},
          "execution_count": 84
        }
      ],
      "source": [
        "def clean(raw_info):\n",
        "    Outlook = []\n",
        "    for i in range(len(raw_info)):\n",
        "        if process(raw_info[i]) != None:\n",
        "            Outlook.append(process(raw_info[i]))\n",
        "    return Outlook\n",
        "\n",
        "data = clean(raw_info)\n",
        "\n",
        "cleaned_data = [i for i in data if len(i)>1]\n",
        "cleaned_data"
      ]
    },
    {
      "cell_type": "code",
      "execution_count": 85,
      "metadata": {
        "id": "RuYcKJgyyDrm",
        "colab": {
          "base_uri": "https://localhost:8080/",
          "height": 1000
        },
        "outputId": "462d32e9-ccdd-4ccd-8ea4-4214d6ebfb6d"
      },
      "outputs": [
        {
          "output_type": "display_data",
          "data": {
            "text/plain": [
              "<Figure size 1000x600 with 1 Axes>"
            ],
            "image/png": "[encoded data removed]"
          },
          "metadata": {}
        },
        {
          "output_type": "display_data",
          "data": {
            "text/plain": [
              "<Figure size 1000x600 with 1 Axes>"
            ],
            "image/png": "[encoded data removed]"
          },
          "metadata": {}
        },
        {
          "output_type": "display_data",
          "data": {
            "text/plain": [
              "<Figure size 1000x600 with 1 Axes>"
            ],
            "image/png": "[encoded data removed]"
          },
          "metadata": {}
        }
      ],
      "source": [
        "import matplotlib.pyplot as plt\n",
        "\n",
        "def create_graphs(cleaned_data):\n",
        "  \"\"\"\n",
        "  Creates graphs based on the cleaned_data.\n",
        "  \"\"\"\n",
        "  for key in set().union(*[d.keys() for d in cleaned_data if 'Timeline' in d]):\n",
        "    if key != 'Timeline':\n",
        "      timelines = []\n",
        "      values = []\n",
        "\n",
        "      for d in cleaned_data:\n",
        "        if 'Timeline' in d and key in d:\n",
        "          timelines.append(d['Timeline'])\n",
        "          values.append(d[key])\n",
        "\n",
        "      if timelines and values:  # Check if there's data to plot\n",
        "        plt.figure(figsize=(10, 6))\n",
        "        plt.plot(timelines, values, marker='o', linestyle='-')\n",
        "        plt.xlabel(\"Timeline\")\n",
        "        plt.ylabel(key)  # Use the key as the y-axis label\n",
        "        plt.title(f\"{key} over Time\")\n",
        "        plt.grid(True)\n",
        "        plt.xticks(rotation=45, ha='right')  # Rotate x-axis labels for readability\n",
        "        plt.tight_layout()\n",
        "        plt.show()\n",
        "\n",
        "# Assuming cleaned_data is defined as in the provided code\n",
        "create_graphs(cleaned_data)"
      ]
    },
    {
      "cell_type": "code",
      "execution_count": 85,
      "metadata": {
        "id": "tvuZOSB-0zXT"
      },
      "outputs": [],
      "source": []
    }
  ],
  "metadata": {
    "colab": {
      "provenance": [],
      "include_colab_link": true
    },
    "kernelspec": {
      "display_name": "Python 3",
      "name": "python3"
    },
    "language_info": {
      "name": "python"
    }
  },
  "nbformat": 4,
  "nbformat_minor": 0
}