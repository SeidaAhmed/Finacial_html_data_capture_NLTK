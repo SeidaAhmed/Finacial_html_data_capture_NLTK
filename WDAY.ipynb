{
  "cells": [
    {
      "cell_type": "markdown",
      "metadata": {
        "id": "view-in-github",
        "colab_type": "text"
      },
      "source": [
        "<a href=\"https://colab.research.google.com/github/SeidaAhmed/Finacial_html_data_capture_NLTK/blob/main/WDAY.ipynb\" target=\"_parent\"><img src=\"https://colab.research.google.com/assets/colab-badge.svg\" alt=\"Open In Colab\"/></a>"
      ]
    },
    {
      "cell_type": "code",
      "execution_count": 278,
      "metadata": {
        "id": "ZLfvIE8EOF9p"
      },
      "outputs": [],
      "source": [
        "metrics_8k=[\n",
        "\"https://www.sec.gov/Archives/edgar/data/1327811/000132781125000040/wday-1312025x991.htm\",\n",
        "#\"https://www.sec.gov/Archives/edgar/data/1327811/000132781125000030/wday-020525x991.htm\", don't have the reqquired data points\n",
        "\"https://www.sec.gov/Archives/edgar/data/1327811/000132781124000233/wday-10312024x991.htm\",\n",
        "\"https://www.sec.gov/Archives/edgar/data/1327811/000132781124000163/wday-07312024x991.htm\",\n",
        "\"https://www.sec.gov/Archives/edgar/data/1327811/000132781124000089/wday-04302024x991.htm\",\n",
        "\"https://www.sec.gov/Archives/edgar/data/1327811/000132781124000031/wday-1312024x991.htm\",\n",
        "\"https://www.sec.gov/Archives/edgar/data/1327811/000132781123000200/wday-10312023x991.htm\",\n",
        "\"https://www.sec.gov/Archives/edgar/data/1327811/000132781123000149/wday-07312023x991.htm\",\n",
        "\"https://www.sec.gov/Archives/edgar/data/1327811/000132781123000077/wday-04302023x991.htm\",\n",
        "\"https://www.sec.gov/Archives/edgar/data/1327811/000132781123000022/wday-01312023x991.htm\",\n",
        "\"https://www.sec.gov/Archives/edgar/data/1327811/000132781122000182/wday-10312022x991.htm\",\n",
        "\"https://www.sec.gov/Archives/edgar/data/1327811/000132781122000153/wday-07312022x991.htm\",\n",
        "\"https://www.sec.gov/Archives/edgar/data/1327811/000132781122000090/wday-04302022x991.htm\",\n",
        "\"https://www.sec.gov/Archives/edgar/data/1327811/000132781122000029/wday-01312022x991.htm\",\n",
        "\"https://www.sec.gov/Archives/edgar/data/1327811/000132781121000173/wday-10312021x991.htm\",\n",
        "\"https://www.sec.gov/Archives/edgar/data/1327811/000132781121000132/wday-07312021x991.htm\",\n",
        "\"https://www.sec.gov/Archives/edgar/data/1327811/000132781121000053/wday-04302021x991.htm\",\n",
        "\"https://www.sec.gov/Archives/edgar/data/1327811/000132781121000015/wday-1312021x991.htm\",\n",
        "\"https://www.sec.gov/Archives/edgar/data/1327811/000132781120000165/wday-10312020x991.htm\",\n",
        "\"https://www.sec.gov/Archives/edgar/data/1327811/000132781120000125/wday-7312020x991.htm\",\n",
        "\"https://www.sec.gov/Archives/edgar/data/1327811/000132781120000066/wday-4302020x991.htm\",\n",
        "\"https://www.sec.gov/Archives/edgar/data/1327811/000132781120000016/wday-1312020x991.htm\",\n",
        "\"https://www.sec.gov/Archives/edgar/data/1327811/000132781119000194/wday-10312019xexhibit9.htm\",\n",
        "\"https://www.sec.gov/Archives/edgar/data/1327811/000119312519234034/d768230dex991.htm\",\n",
        "\"https://www.sec.gov/Archives/edgar/data/1327811/000119312519158324/d700616dex991.htm\",\n",
        "#\"https://www.sec.gov/Archives/edgar/data/1327811/000119312519057546/d714677dex991.htm\",used different timeline formating fourth quarter\n",
        "\"https://www.sec.gov/Archives/edgar/data/1327811/000119312518338042/d664830dex991.htm\",\n",
        "\"https://www.sec.gov/Archives/edgar/data/1327811/000119312518266192/d618668dex991.htm\",\n",
        "\"https://www.sec.gov/Archives/edgar/data/1327811/000132781118000017/wday-04302018xexhibit991.htm\",\n",
        "\"https://www.sec.gov/Archives/edgar/data/1327811/000132781118000005/wday-1312018x991.htm\",\n",
        "\"https://www.sec.gov/Archives/edgar/data/1327811/000132781117000030/wday-10312017xexhibit991.htm\",\n",
        "\"https://www.sec.gov/Archives/edgar/data/1327811/000132781117000019/wday-07312017xexhibit991.htm\",\n",
        "\"https://www.sec.gov/Archives/edgar/data/1327811/000132781117000013/wday-04302017xexhibit991.htm\",\n",
        "\"https://www.sec.gov/Archives/edgar/data/1327811/000132781117000004/wday-1312017x991.htm\",\n",
        "\"https://www.sec.gov/Archives/edgar/data/1327811/000132781116000060/wday-10312016xexhibit991.htm\",\n",
        "\"https://www.sec.gov/Archives/edgar/data/1327811/000132781116000046/wday-07312016xexhibit991.htm\",\n",
        "\"https://www.sec.gov/Archives/edgar/data/1327811/000132781116000038/wday-04302016xexhibit991.htm\",\n",
        "\"https://www.sec.gov/Archives/edgar/data/1327811/000132781116000029/wday-1312016x991.htm\",\n",
        "\"https://www.sec.gov/Archives/edgar/data/1327811/000132781115000024/wday-10312015xexhibit991.htm\",\n",
        "\"https://www.sec.gov/Archives/edgar/data/1327811/000132781115000017/wday-07312015xexhibit991.htm\",\n",
        "\"https://www.sec.gov/Archives/edgar/data/1327811/000132781115000011/wday-04302015xexhibit991.htm\",\n",
        "\"https://www.sec.gov/Archives/edgar/data/1327811/000132781115000003/exhibit99120150225.htm\",\n",
        "\"https://www.sec.gov/Archives/edgar/data/1327811/000132781114000004/wday10312014-991.htm\",\n",
        "\"https://www.sec.gov/Archives/edgar/data/1327811/000119312514323722/d781646dex991.htm\",\n",
        "\"https://www.sec.gov/Archives/edgar/data/1327811/000119312514212967/d731529dex991.htm\",\n",
        "\"https://www.sec.gov/Archives/edgar/data/1327811/000119312514069729/d680227dex991.htm\",\n",
        "\"https://www.sec.gov/Archives/edgar/data/1327811/000119312513452987/d634015dex991.htm\",\n",
        "\"https://www.sec.gov/Archives/edgar/data/1327811/000119312513348276/d589858dex991.htm\",\n",
        "\"https://www.sec.gov/Archives/edgar/data/1327811/000119312513231691/d542012dex991.htm\",\n",
        "\"https://www.sec.gov/Archives/edgar/data/1327811/000119312513096065/d497397dex991.htm\",\n",
        "\"https://www.sec.gov/Archives/edgar/data/1327811/000119312512483848/d443532dex991.htm\"\n",
        "]\n",
        "\n",
        "metrics_8k=['https://www.sec.gov/Archives/edgar/data/1327811/000132781123000022/wday-01312023x991.htm']\n",
        "\n",
        "\n",
        "#12-month subscription revenue backlog\n",
        "#24-Month Subscription Revenue Backlog\n",
        "\n",
        "#Total subscription revenue backlog (in every same filing different element as above)\n",
        "#number of organizations that use it\n"
      ]
    },
    {
      "cell_type": "markdown",
      "metadata": {
        "id": "coB_5a08PETP"
      },
      "source": [
        "Important imports"
      ]
    },
    {
      "cell_type": "code",
      "execution_count": 279,
      "metadata": {
        "colab": {
          "base_uri": "https://localhost:8080/"
        },
        "id": "TBr5AhLKPJsL",
        "outputId": "6496544f-014a-4a4e-cc0f-897ee81c51c2"
      },
      "outputs": [
        {
          "output_type": "stream",
          "name": "stderr",
          "text": [
            "[nltk_data] Downloading package maxent_treebank_pos_tagger to\n",
            "[nltk_data]     /root/nltk_data...\n",
            "[nltk_data]   Package maxent_treebank_pos_tagger is already up-to-\n",
            "[nltk_data]       date!\n",
            "[nltk_data] Error loading path: Package 'path' not found in index\n",
            "[nltk_data] Downloading package punkt to /root/nltk_data...\n",
            "[nltk_data]   Package punkt is already up-to-date!\n",
            "[nltk_data] Downloading package stopwords to /root/nltk_data...\n",
            "[nltk_data]   Package stopwords is already up-to-date!\n",
            "[nltk_data] Downloading package averaged_perceptron_tagger_eng to\n",
            "[nltk_data]     /root/nltk_data...\n",
            "[nltk_data]   Package averaged_perceptron_tagger_eng is already up-to-\n",
            "[nltk_data]       date!\n",
            "[nltk_data] Downloading package punkt_tab to /root/nltk_data...\n",
            "[nltk_data]   Package punkt_tab is already up-to-date!\n"
          ]
        }
      ],
      "source": [
        "import nltk\n",
        "from nltk.corpus import stopwords\n",
        "from nltk.tokenize import word_tokenize\n",
        "import pandas as pd\n",
        "import requests\n",
        "from bs4 import BeautifulSoup\n",
        "try:\n",
        "    import urllib.request as urllib3\n",
        "    #requests.packages.urllib3.contrib.pyopenssl.extract_from_urllib3()\n",
        "except ImportError:\n",
        "    import urllib3\n",
        "import zlib\n",
        "from nltk import Tree\n",
        "import re\n",
        "nltk.download('maxent_treebank_pos_tagger')\n",
        "nltk.download('path')\n",
        "nltk.download('punkt')\n",
        "nltk.download('stopwords')\n",
        "nltk.download('averaged_perceptron_tagger_eng')\n",
        "nltk.download('punkt_tab')\n",
        "\n",
        "years = []\n",
        "for i in range(2000,2100):\n",
        "  years.append(i)\n",
        "unit_conv={\"billion\":1000000000, \"million\":1000000,\"millions\":1000000,\"thousand\":1000,\"%\":0.01,\"percentage\":0.01,\"percent\":0.01,\"\":1,\"basis points\":0.0001,\"bps\":0.0001}\n"
      ]
    },
    {
      "cell_type": "markdown",
      "metadata": {
        "id": "7uL7mmtLP3I0"
      },
      "source": [
        "Functions that should generally stay the same:"
      ]
    },
    {
      "cell_type": "code",
      "execution_count": 280,
      "metadata": {
        "id": "uXtUmNvJP6uI"
      },
      "outputs": [],
      "source": [
        "def extract_soup(url):\n",
        "\n",
        "    hdr = {'User-Agent': 'UbineerCorp info@ubineer.com','Accept-Encoding': 'gzip, deflate','host': 'www.sec.gov'}\n",
        "    s = requests.Session()\n",
        "    s.headers.update(hdr)\n",
        "    data = s.get(url)\n",
        "    s.close()\n",
        "    soup = BeautifulSoup(data.content, features=\"html.parser\")\n",
        "    return(soup)\n",
        "\n",
        "def openBS(html_file):\n",
        "\n",
        "  with open(html_file, encoding = \"ISO-8859-1\") as fp:\n",
        "\n",
        "    soup = BeautifulSoup(fp,'html.parser')\n",
        "\n",
        "  return soup\n",
        "\n",
        "def find_between( s, first, last ):\n",
        "    try:\n",
        "        start = s.index( first ) + len( first )\n",
        "        end = s.index( last, start )\n",
        "        return s[start:end]\n",
        "    except ValueError:\n",
        "        return \"\"\n",
        "\n",
        "def find_between_include(s, first, last, length):\n",
        "    try:\n",
        "        start = s.index( first ) - length\n",
        "        end = s.index( last, start )\n",
        "        return s[start:end]\n",
        "    except ValueError:\n",
        "        return \"\"\n",
        "\n",
        "\n",
        "def unitConversion(insert_lst):\n",
        "  value = None\n",
        "  insert_lst[0] = insert_lst[0].replace('flat','0%')\n",
        "  unit_conv={\"billion\":1000000000,\"million\":1000000,\"thousand\":1000,\"%\":0.01,\"percentage\":0.01,\"percent\":0.01,\"\":1,\"basis points\":0.0001,\"bps\":0.0001}\n",
        "  if len(insert_lst) != 2:\n",
        "\n",
        "    for unit in list(unit_conv.keys()):\n",
        "      if unit == '':\n",
        "        pass\n",
        "      elif unit in insert_lst[0]:\n",
        "        insert_lst = [str(insert_lst[0]).replace(unit,''), unit]\n",
        "\n",
        "\n",
        "\n",
        "  insert_lst[-1] =insert_lst[-1].lower()\n",
        "\n",
        "\n",
        "  insert_lst[0] = str(insert_lst[0]).replace(',','').replace('$','').replace('(','-').replace(')','').replace('%','').strip()\n",
        "  #Andi adds brackets\n",
        "\n",
        "\n",
        "  insert_lst[0] = float(insert_lst[0])\n",
        "\n",
        "  for ele in unit_conv.keys():\n",
        "    #print(ele)\n",
        "    if ele == insert_lst[-1]:\n",
        "      value = insert_lst[0] * unit_conv[ele]\n",
        "      #attempt to fix floating point error\n",
        "      value = round(value,4)\n",
        "    else:\n",
        "      pass\n",
        "  if value == None:\n",
        "    print(\"Value is None: \", insert_lst)\n",
        "  return value\n",
        "\n",
        "def change_pos_tag(tag_sentence,model):\n",
        "    new_tag_lst=[]\n",
        "    for ele in tag_sentence:\n",
        "        if ele[0] in model.keys():\n",
        "            new_tag_lst.append((ele[0],model[ele[0]]))\n",
        "        else:\n",
        "            new_tag_lst.append(ele)\n",
        "    return(new_tag_lst)\n",
        "\n",
        "def listofdict (tree):\n",
        "  # source: https://stackoverflow.com/questions/63945863/converting-nltk-chunks-to-a-list-of-dictionaries\n",
        "  # need helper function to simply put chunks into dictionaries\n",
        "    dlist = []\n",
        "    d = {}\n",
        "    for item in tree:\n",
        "\n",
        "        if isinstance(item, Tree):\n",
        "\n",
        "            d[item.label()] = ' '.join([l[0] for l in item.leaves()])\n",
        "            dlist.append(d) if len(d)>0 else None\n",
        "            d = dict()\n",
        "\n",
        "    dlist.append(d) if len(d)>0 else None\n",
        "    return dlist\n",
        "\n",
        "def find_segment(listofdict):\n",
        "    # helper function\n",
        "    tl = \"Timeline\"\n",
        "    tl_count = 0\n",
        "    segment = 0\n",
        "    for i in range(len(listofdict)):\n",
        "        if tl in listofdict[i].keys():\n",
        "            tl_count +=1\n",
        "            if tl_count == 2:\n",
        "                segment = i\n",
        "                return segment\n",
        "    return len(listofdict)\n",
        "\n",
        "def combine_dict(listofdict):\n",
        "  # merge messy dictionaries from stack overflow function\n",
        "    master_outlook = []\n",
        "\n",
        "    while(len(listofdict) > 0 ):\n",
        "        segment = find_segment(listofdict)\n",
        "\n",
        "        time_dict = {}\n",
        "        for i in range(segment):\n",
        "            time_dict.update(listofdict[i])\n",
        "\n",
        "        listofdict = listofdict[segment:]\n",
        "        master_outlook.append(time_dict)\n",
        "    return master_outlook"
      ]
    },
    {
      "cell_type": "markdown",
      "metadata": {
        "id": "ZYLDuNS4R5j7"
      },
      "source": [
        "Capture guidance function: This function captures all the text in the guidance section of the html file. It should generally stay the same unless the company has a weird format or you need to change out some specific words."
      ]
    },
    {
      "cell_type": "code",
      "execution_count": 281,
      "metadata": {
        "colab": {
          "base_uri": "https://localhost:8080/"
        },
        "id": "2mAk37vqSM-z",
        "outputId": "6ea61ef3-e6c8-4554-b1c2-38a5662dded2"
      },
      "outputs": [
        {
          "output_type": "stream",
          "name": "stdout",
          "text": [
            " Announces Fiscal 2023 Fourth Quarter and Full Year Financial ResultsFiscal Fourth Quarter Total Revenues of $1.65 Billion, Up 19.6% Year Over YearSubscription Revenues of $1.50 Billion, Up 21.7% Year Over Year24-Month Subscription Revenue Backlog of $9.68 Billion, Up 21.3% Year Over YearTotal Subscription Revenue Backlog of $16.45 Billion, Up 28.4% Year Over YearFiscal Year 2023 Total Revenues of $6.22 Billion, Up 21.0% Year Over YearSubscription Revenues of $5.57 Billion, Up 22.5% Year Over YearOperating Cash Flows of $1.66 Billion, Up 0.4% Year Over YearPLEASANTON, Calif., February 27, 2023 -- Workday, Inc. (NASDAQ: WDAY), a leader in enterprise cloud applications for finance and human resources, today announced results for the fiscal 2023 fourth quarter and full year ended January 31, 2023.Fiscal 2023 Fourth Quarter Results•Total revenues were $1.65 billion, an increase of 19.6% from the fourth quarter of fiscal 2022. Subscription revenues were $1.50 billion, an increase of 21.7% from the same period last year.•Operating loss was $89.0 million, or negative 5.4% of revenues, compared to an operating loss of $101.0 million, or negative 7.3% of revenues, in the same period last year. Non-GAAP operating income for the fourth quarter was $305.3 million, or 18.5% of revenues, compared to a non-GAAP operating income of $237.1 million, or 17.2% of revenues, in the same period last year.1•Basic and diluted net loss per share was $0.49, compared to basic and diluted net loss per share of $0.29 in the fourth quarter of fiscal 2022. Non-GAAP basic and diluted net income per share was $1.00 and $0.99, respectively, compared to non-GAAP basic and diluted net income per share of $0.82 and $0.78, respectively, in the same period last year.2Fiscal Year 2023 Results•Total revenues were $6.22 billion, an increase of 21.0% from fiscal 2022. Subscription revenues were $5.57 billion, an increase of 22.5% from the prior year.•Operating loss was $222.2 million, or negative 3.6% of revenues, compared to an operating loss of $116.5 million, or negative 2.3% of revenues, in fiscal 2022. Non-GAAP operating income was $1.21 billion, or 19.5% of revenues, compared to a non-GAAP operating income of $1.15 billion, or 22.4% of revenues, in the prior year.1•Basic and diluted net loss per share was $1.44, compared to basic and diluted net income per share of $0.12 in fiscal 2022. Non-GAAP basic and diluted net income per share was $3.73 and $3.64, respectively, compared to non-GAAP basic and diluted net income per share of $4.20 and $3.99, respectively, in the prior year.2•Operating cash flows were $1.66 billion compared to $1.65 billion in the prior year.•Cash, cash equivalents, and marketable securities were $6.12 billion as of January 31, 2023.\n"
          ]
        },
        {
          "output_type": "execute_result",
          "data": {
            "text/plain": [
              "['announces fiscal 2023 fourth quarter and full year financial resultsfiscal fourth quarter total revenues of $1.65  billion, up 19.6 %  year over yearsubscription revenues of $1.50  billion, up 21.7 %  year over year24-month subscription revenue backlog of $9.68  billion, up 21.3 %  year over yeartotal subscription revenue backlog of $16.45  billion, up 28.4 %  year over yearfiscal year 2023 total revenues of $6.22  billion, up 21.0 %  year over yearsubscription revenues of $5.57  billion, up 22.5 %  year over yearoperating cash flows of $1.66  billion, up 0.4 %  year over yearpleasanton, calif., february 27, 2023 -- workday, inc. (nasdaq: wday), a leader in enterprise cloud applications for finance and human resources, today announced results for the fiscal 2023 fourth quarter and full year ended january 31, 2023.fiscal 2023 fourth quarter results total revenues were $1.65  billion, an increase of 19.6 %  from the fourth quarter of fiscal 2022. subscription revenues were $1.50  billion, an increase of 21.7 %  from the same period last year. operating loss was $89.0  million, or negative 5.4 %  of revenues, compared to an operating loss of $101.0  million, or negative 7.3 %  of revenues, in the same period last year. non-gaap operating income for the fourth quarter was $305.3  million, or 18.5 %  of revenues, compared to a non-gaap operating income of $237.1  million, or 17.2 %  of revenues, in the same period last year.1 basic and diluted net loss per share was $0.49 , compared to basic and diluted net loss per share of $0.29  in the fourth quarter of fiscal 2022. non-gaap basic and diluted net income per share was $1.00  and $0.99 , respectively, compared to non-gaap basic and diluted net income per share of $0.82  and $0.78 , respectively, in the same period last year.2fiscal year 2023 results total revenues were $6.22  billion, an increase of 21.0 %  from fiscal 2022. subscription revenues were $5.57  billion, an increase of 22.5 %  from the prior year. operating loss was $222.2  million, or negative 3.6 %  of revenues, compared to an operating loss of $116.5  million, or negative 2.3 %  of revenues, in fiscal 2022. non-gaap operating income was $1.21  billion, or 19.5 %  of revenues, compared to a non-gaap operating income of $1.15  billion, or 22.4 %  of revenues, in the prior year.1 basic and diluted net loss per share was $1.44 , compared to basic and diluted net income per share of $0.12  in fiscal 2022. non-gaap basic and diluted net income per share was $3.73  and $3.64 , respectively, compared to non-gaap basic and diluted net income per share of $4.20  and $3.99 , respectively, in the prior year.2 operating cash flows were $1.66  billion compared to $1.65  billion in the prior year. cash, cash equivalents, and marketable securities were $6.12  billion as of january 31, 2023.']"
            ]
          },
          "metadata": {},
          "execution_count": 281
        }
      ],
      "source": [
        "def captureGuidance(eightK_lst):\n",
        "    guidance_bs4_lst=[]\n",
        "    for ele in eightK_lst:\n",
        "\n",
        "        bs4_8K=extract_soup(ele)\n",
        "        #print(bs4_8K.prettify())\n",
        "        test= bs4_8K.get_text()\n",
        "        #print(len(test))\n",
        "        result = find_between( test,\"Workday\" , \"Comments on the News\" )\n",
        "        print(result)\n",
        "        if not result: # some companies call outlook guidance\n",
        "          result = find_between( test, \"Workday\", \"Comments on the News\")\n",
        "        # elif not result: # pltr is inbetween outlook and earnings webcast\n",
        "        #   result = find_between( test, \"Outlook\", \"Earnings\")\n",
        "\n",
        "\n",
        "        #print(bs4_8K.select(test.name+':contains(\"Financial Outlook\")'))\n",
        "        #print(result)\n",
        "        #print(bs4_8K.find(text=\"Quarterly Conference Call \").previous_element.parent)\n",
        "\n",
        "        result = re.sub(r'(\\d+)-(\\d+)', r'\\1 \\2', result)\n",
        "        result = re.sub(r'(\\$\\d+\\.\\d+)', r'\\1 ', result)\n",
        "        result = re.sub(r'\\b(low|mid|high|single|teens|to)-\\b', r'\\1 ', result)\n",
        "\n",
        "        replace = {'%':' % ','shares':' shares ','.For':' for','outstandingfull':' outstanding full ','20232exhibit':'2023 ','year over year':'year-over-year','millionfor':' million for ','\\n': ',' ,'full fiscal year':'full-fiscal-year','2020.fourth':'fourth',\n",
        "                '•': ' ','\\xa028':' ','\\xa017':' ','    ':'','◦':' ','million.':' million . ', '\\xa0':' ','%.': ' % .','\\uf0b7':' ','oRevenue':'revenue','oNon-GAAP':'non-gaap','●':' ','.Non-GAAP':'. non-gaap','.Revenues':'. revenues','breakeven':'$0'}\n",
        "        for word in replace:\n",
        "          result = result.replace(word,replace[word])\n",
        "        guidance_bs4_lst.append(result.strip().lower())\n",
        "    return guidance_bs4_lst\n",
        "\n",
        "metrics_data = captureGuidance(metrics_8k)\n",
        "metrics_data\n"
      ]
    },
    {
      "cell_type": "markdown",
      "metadata": {
        "id": "XKO64TKAUZeW"
      },
      "source": [
        "These are the custom chunking model words. This will vary depending on the company, but the core words will stay in here."
      ]
    },
    {
      "cell_type": "markdown",
      "metadata": {
        "id": "EYwNsUJA6JlQ"
      },
      "source": [
        "Filter sentence function: Will need to change the stop words depending on the context."
      ]
    },
    {
      "cell_type": "code",
      "execution_count": 282,
      "metadata": {
        "id": "t3C-uIY70-em"
      },
      "outputs": [],
      "source": [
        "\n",
        "model = {'first': 'CD', 'second': 'CD', 'third': 'CD', 'fourth': 'CD', 'total': 'CD', 'expected': 'expected', 'quarter': 'TIME', 'year': 'TIME', 'breakeven': 'CD', 'full':\n",
        "'CD', 'tax': 'tax', 'subscription': 'sub', 'billings': 'bill', 'billion': 'unit', 'revenue': 'rev', 'unit': 'unit', 'full-year': 'TIME', 'fiscal': 'TIME', 'million': 'unit',\n",
        "'share': 'share', 'shares': 'share', 'year-over-year': 'yoy', '%': '%', 'ebitda': 'ebitda', 'loss': 'loss', 'arr': 'arr', 'income': 'income', 'net': 'net', 'revenues': 'rev',\n",
        "'non-gaap': 'non-gaap', 'gaap': 'gaap', 'operating': 'op', 'margin': 'mar', 'services': 'ser', 'adjusted': 'adj', 'negative': 'negative', 'respectively': 'resp', 'basic': 'basic',\n",
        "'q1': 'TIME', 'q2': 'TIME', 'q3': 'TIME', 'q4': 'TIME', 'fy': 'TIME', 'expenses': 'expenses', 'quarter-over-quarter': 'qoq', 'expectation ': 'expect', 'gross': 'gross', 'growth': 'growth',\n",
        "'rate': 'rate', 'operations': 'op', 'operation': 'op', 'cash': 'cash', 'expenditures': 'expenses', 'provision': 'prov', 'thousand': 'unit', 'earning': 'earn', 'taxes': 'tax', 'expense': 'expenses',\n",
        "'interest': 'interest', 'subscriptions': 'sub', 'eps': 'eps', 'compensation': 'comp', 'amortization': 'amort', 'acquisition': 'acq', 'costs': 'cost', 'debt': 'debt', 'assumed': 'ass', 'common': 'com',\n",
        "'dec.': 'month', 'break-even': 'CD', 'free': 'free', 'flow': 'flow', 'annual': 'ann', 'cloud': 'cloud', 'positive': 'pos', 'zero': 'CD', 'comparable': 'comp', 'comp': 'comp', 'return': 'rtn', 'invested': 'inv',\n",
        "'capital': 'cap', 'dividend': 'div', 'payments': 'pay', 'target': 'target', 'consolidated': 'con','percent':'%','12-month':'12-month','24-month':'24-month','year24-month':'24-month',\n",
        "'repurchases': 'repur', 'repurchase': 'repur','repurchased': 'repur', 'repayments': 'repay', 'maturities': 'matur', 'reduced': 'reduce', 'reducing': 'reduce', 'planned': 'plan', 'percent': '%', 'investments': 'inv',\n",
        "'profit': 'profit', 'low-teens': 'CD', 'fromsource': 'src', 'organic': 'organic', 'expansion': 'growth', 'bps': 'bps', 'increase': 'growth', 'half': 'CD', 'back': 'CD', 'ending': 'end', 'ended': 'end', 'count': 'count',\n",
        "'even': 'CD', 'single': '%', 'percentage': '%', 'low': 'CD', 'mid': 'CD', 'high': 'CD', 'flat': 'CD', 'teens': '%', 'margins': 'mar', 'core': 'core', 'non-u.s.': 'non-gaap', 'outlook': 'outlook', 'â€”': ':', 'homes': 'home',\n",
        "'closed': 'closed', 'end': 'end', 'lower': 'reduce', 'sg': 'sg', 'pre-tax': 'pre-tax', 'increasing': 'growth', 'financial': 'financial', 'roic': 'roic', 'basis': 'basis', 'points': 'points', 'sales': 'sales', 'period': 'period',\n",
        " 'double-digit': 'CD', 'saas': 'saas', 'license': 'license', 'attributable': 'att', 'stockholders':  'stkhdr', 'hardware': 'hardware', 'reduce': 'reduce', 'stock': 'stk', 'restoration': 'restoration', 'continuing': 'continuing',\n",
        " 'intangibles': 'intan', 'non-cash': 'non-cash', 'stock-based': 'stk', 'service': 'ser', 'expectations': 'expect', 'aggregates': 'aggr', 'freight-adjusted': 'frtadj', 'price': 'price',\n",
        "'digit': '%', 'asphalt': 'asphalt', 'concrete': 'concrete', 'calcium': 'calcium', 'sag': 'sag', 'depreciation': 'dpr', 'depletion': 'dpl', 'accretion': 'accr', 'shipment': 'spmt', 'cost': 'cost',\n",
        "'down': 'negative', 'up': 'pos', 'volume': 'vol', 'tons': 'tons', 'spending': 'spend', 'pricing': 'price', 'non-aggregates': 'non-aggr', 'improvement': 'growth', 'improve': 'growth', 'diluted': 'dil', 'earnings': 'earn',\n",
        "'foreign':'foreign','grew':'growth' , 'grow':'growth' ,'finance':'fin','currency':'currency','expect':'expect','marketable':'marketable','securities':'securities','headcount':'headcount','full-fiscal-year':'TIME' ,'ARR' : 'ARR', 'yearsubscription':'sub'}\n",
        "\n",
        "model.update({'january': 'month', 'february': 'month', 'march': 'month', 'april': 'month', 'may': 'month', 'june': 'month','july': 'month', 'august': 'month', 'september': 'month', 'october': 'month', 'november': 'month', 'december': 'month'})\n",
        "#meta specific\n",
        "model.update({'ad':'ad','dap':'dap','daus':'daus','map':'map','maus':'maus','impressions':'impr'})"
      ]
    },
    {
      "cell_type": "code",
      "execution_count": 283,
      "metadata": {
        "id": "zdLcu4Ft50id"
      },
      "outputs": [],
      "source": [
        "def filter_sent(sentence, model):\n",
        "    custom_stop = [\"approximately\",\"/\", ',','information','available',\"'s\",'follows',':','range','outstanding','respectively','average','basic','weighted-average','representing','weighted','ending','roughly','~','assuming', 'including', 'principal','payments','leases','projected']\n",
        "    stop_words = set(stopwords.words(\"english\"))\n",
        "    filtered_sentence = []\n",
        "    for w in sentence:\n",
        "        if (w not in stop_words and w not in custom_stop) or (w in model.keys()):\n",
        "            filtered_sentence.append(w)\n",
        "    return filtered_sentence"
      ]
    },
    {
      "cell_type": "markdown",
      "metadata": {
        "id": "1SNzMoSe847Z"
      },
      "source": []
    },
    {
      "cell_type": "markdown",
      "metadata": {
        "id": "oY2XKUeNU9Fa"
      },
      "source": [
        "Chunking function: This is the most difficult function to write. Completely depends on the way the company writes their sentences. When writing this function it's best to print(tagged) to see what's being shown. During this stage changes may need to be made to the model and custom stop words, as well as the captureGuidance function."
      ]
    },
    {
      "cell_type": "code",
      "execution_count": 284,
      "metadata": {
        "id": "qXMOa0ujVc66"
      },
      "outputs": [],
      "source": [
        "def metrics_CHUNK(sentence, model):\n",
        "\n",
        "    tagged_raw = nltk.pos_tag(sentence)\n",
        "\n",
        "    tagged = change_pos_tag(tagged_raw,model) #https://www.guru99.com/pos-tagging-chunking-nltk.html\n",
        "    print(tagged)\n",
        "    chunk_rev = r\"\"\"\n",
        "    Timeline: {<month><CD><CD>}\n",
        "    Timeline: {<TIME><CD><CD><TIME>}\n",
        "\n",
        "    12-Month_Subs_Rev_Backlog: <12-month><sub><rev><VBD><\\$>{<CD>}<unit>\n",
        "    24-Month_Subs_Rev_Backlog:<24-month><sub><rev><VBD><\\$>{<CD>}<unit>\n",
        "    Total_Subs_Rev_Backlog:<sub><rev><VBD><\\$>{<CD>}<unit>\n",
        "    No_Org_Use: <JJ><NN><arr><growth>{<CD>}<\\%>\n",
        "\"\"\"\n",
        "    chunkParserrev = nltk.RegexpParser(chunk_rev)\n",
        "    chunkedrev = chunkParserrev.parse(tagged)\n",
        "\n",
        "\n",
        "    return listofdict(chunkedrev)"
      ]
    },
    {
      "cell_type": "markdown",
      "metadata": {
        "id": "_JdvD40LVpuJ"
      },
      "source": [
        "Outlook function: I don't think this ever changes but I have only done one text company so far so I am including it here: This should end up giving a list of dictionaries that grouped together correctly. Make sure to check that the output is correct."
      ]
    },
    {
      "cell_type": "code",
      "execution_count": 285,
      "metadata": {
        "colab": {
          "base_uri": "https://localhost:8080/"
        },
        "id": "wLqjpDifXIDh",
        "outputId": "7b2af973-4f13-4dfd-98e5-7e9956db7829"
      },
      "outputs": [
        {
          "output_type": "stream",
          "name": "stdout",
          "text": [
            "[('announces', 'NNS'), ('fiscal', 'TIME'), ('2023', 'CD'), ('fourth', 'CD'), ('quarter', 'TIME'), ('full', 'CD'), ('year', 'TIME'), ('financial', 'financial'), ('resultsfiscal', 'JJ'), ('fourth', 'CD'), ('quarter', 'TIME'), ('total', 'CD'), ('revenues', 'rev'), ('$', '$'), ('1.65', 'CD'), ('billion', 'unit'), ('up', 'pos'), ('19.6', 'CD'), ('%', '%'), ('year', 'TIME'), ('yearsubscription', 'sub'), ('revenues', 'rev'), ('$', '$'), ('1.50', 'CD'), ('billion', 'unit'), ('up', 'pos'), ('21.7', 'CD'), ('%', '%'), ('year', 'TIME'), ('year24-month', '24-month'), ('subscription', 'sub'), ('revenue', 'rev'), ('backlog', 'VBD'), ('$', '$'), ('9.68', 'CD'), ('billion', 'unit'), ('up', 'pos'), ('21.3', 'CD'), ('%', '%'), ('year', 'TIME'), ('yeartotal', 'JJ'), ('subscription', 'sub'), ('revenue', 'rev'), ('backlog', 'VBD'), ('$', '$'), ('16.45', 'CD'), ('billion', 'unit'), ('up', 'pos'), ('28.4', 'CD'), ('%', '%'), ('year', 'TIME'), ('yearfiscal', 'CD'), ('year', 'TIME'), ('2023', 'CD'), ('total', 'CD'), ('revenues', 'rev'), ('$', '$'), ('6.22', 'CD'), ('billion', 'unit'), ('up', 'pos'), ('21.0', 'CD'), ('%', '%'), ('year', 'TIME'), ('yearsubscription', 'sub'), ('revenues', 'rev'), ('$', '$'), ('5.57', 'CD'), ('billion', 'unit'), ('up', 'pos'), ('22.5', 'CD'), ('%', '%'), ('year', 'TIME'), ('yearoperating', 'VBG'), ('cash', 'cash'), ('flows', 'VBZ'), ('$', '$'), ('1.66', 'CD'), ('billion', 'unit'), ('up', 'pos'), ('0.4', 'CD'), ('%', '%'), ('year', 'TIME'), ('yearpleasanton', 'NN'), ('calif.', 'VBP'), ('february', 'month'), ('27', 'CD'), ('2023', 'CD'), ('--', ':'), ('workday', 'JJ'), ('inc.', 'NN'), ('(', '('), ('nasdaq', 'JJ'), ('wday', 'NN'), (')', ')'), ('leader', 'NN'), ('enterprise', 'NN'), ('cloud', 'cloud'), ('applications', 'NNS'), ('finance', 'fin'), ('human', 'JJ'), ('resources', 'NNS'), ('today', 'NN'), ('announced', 'VBD'), ('results', 'NNS'), ('fiscal', 'TIME'), ('2023', 'CD'), ('fourth', 'CD'), ('quarter', 'TIME'), ('full', 'CD'), ('year', 'TIME'), ('ended', 'end'), ('january', 'month'), ('31', 'CD'), ('2023.fiscal', 'JJ'), ('2023', 'CD'), ('fourth', 'CD'), ('quarter', 'TIME'), ('results', 'NNS'), ('total', 'CD'), ('revenues', 'rev'), ('$', '$'), ('1.65', 'CD'), ('billion', 'unit'), ('increase', 'growth'), ('19.6', 'CD'), ('%', '%'), ('fourth', 'CD'), ('quarter', 'TIME'), ('fiscal', 'TIME'), ('2022.', 'CD'), ('subscription', 'sub'), ('revenues', 'rev'), ('$', '$'), ('1.50', 'CD'), ('billion', 'unit'), ('increase', 'growth'), ('21.7', 'CD'), ('%', '%'), ('period', 'period'), ('last', 'JJ'), ('year', 'TIME'), ('.', '.'), ('operating', 'op'), ('loss', 'loss'), ('$', '$'), ('89.0', 'CD'), ('million', 'unit'), ('negative', 'negative'), ('5.4', 'CD'), ('%', '%'), ('revenues', 'rev'), ('compared', 'VBN'), ('operating', 'op'), ('loss', 'loss'), ('$', '$'), ('101.0', 'CD'), ('million', 'unit'), ('negative', 'negative'), ('7.3', 'CD'), ('%', '%'), ('revenues', 'rev'), ('period', 'period'), ('last', 'JJ'), ('year', 'TIME'), ('.', '.'), ('non-gaap', 'non-gaap'), ('operating', 'op'), ('income', 'income'), ('fourth', 'CD'), ('quarter', 'TIME'), ('$', '$'), ('305.3', 'CD'), ('million', 'unit'), ('18.5', 'CD'), ('%', '%'), ('revenues', 'rev'), ('compared', 'VBN'), ('non-gaap', 'non-gaap'), ('operating', 'op'), ('income', 'income'), ('$', '$'), ('237.1', 'CD'), ('million', 'unit'), ('17.2', 'CD'), ('%', '%'), ('revenues', 'rev'), ('period', 'period'), ('last', 'JJ'), ('year.1', 'JJ'), ('basic', 'basic'), ('diluted', 'dil'), ('net', 'net'), ('loss', 'loss'), ('per', 'IN'), ('share', 'share'), ('$', '$'), ('0.49', 'CD'), ('compared', 'VBN'), ('basic', 'basic'), ('diluted', 'dil'), ('net', 'net'), ('loss', 'loss'), ('per', 'IN'), ('share', 'share'), ('$', '$'), ('0.29', 'CD'), ('fourth', 'CD'), ('quarter', 'TIME'), ('fiscal', 'TIME'), ('2022.', 'CD'), ('non-gaap', 'non-gaap'), ('basic', 'basic'), ('diluted', 'dil'), ('net', 'net'), ('income', 'income'), ('per', 'IN'), ('share', 'share'), ('$', '$'), ('1.00', 'CD'), ('$', '$'), ('0.99', 'CD'), ('respectively', 'resp'), ('compared', 'VBN'), ('non-gaap', 'non-gaap'), ('basic', 'basic'), ('diluted', 'dil'), ('net', 'net'), ('income', 'income'), ('per', 'IN'), ('share', 'share'), ('$', '$'), ('0.82', 'CD'), ('$', '$'), ('0.78', 'CD'), ('respectively', 'resp'), ('period', 'period'), ('last', 'JJ'), ('year.2fiscal', 'JJ'), ('year', 'TIME'), ('2023', 'CD'), ('results', 'NNS'), ('total', 'CD'), ('revenues', 'rev'), ('$', '$'), ('6.22', 'CD'), ('billion', 'unit'), ('increase', 'growth'), ('21.0', 'CD'), ('%', '%'), ('fiscal', 'TIME'), ('2022.', 'CD'), ('subscription', 'sub'), ('revenues', 'rev'), ('$', '$'), ('5.57', 'CD'), ('billion', 'unit'), ('increase', 'growth'), ('22.5', 'CD'), ('%', '%'), ('prior', 'JJ'), ('year', 'TIME'), ('.', '.'), ('operating', 'op'), ('loss', 'loss'), ('$', '$'), ('222.2', 'CD'), ('million', 'unit'), ('negative', 'negative'), ('3.6', 'CD'), ('%', '%'), ('revenues', 'rev'), ('compared', 'VBN'), ('operating', 'op'), ('loss', 'loss'), ('$', '$'), ('116.5', 'CD'), ('million', 'unit'), ('negative', 'negative'), ('2.3', 'CD'), ('%', '%'), ('revenues', 'rev'), ('fiscal', 'TIME'), ('2022.', 'CD'), ('non-gaap', 'non-gaap'), ('operating', 'op'), ('income', 'income'), ('$', '$'), ('1.21', 'CD'), ('billion', 'unit'), ('19.5', 'CD'), ('%', '%'), ('revenues', 'rev'), ('compared', 'VBN'), ('non-gaap', 'non-gaap'), ('operating', 'op'), ('income', 'income'), ('$', '$'), ('1.15', 'CD'), ('billion', 'unit'), ('22.4', 'CD'), ('%', '%'), ('revenues', 'rev'), ('prior', 'JJ'), ('year.1', 'JJ'), ('basic', 'basic'), ('diluted', 'dil'), ('net', 'net'), ('loss', 'loss'), ('per', 'IN'), ('share', 'share'), ('$', '$'), ('1.44', 'CD'), ('compared', 'VBN'), ('basic', 'basic'), ('diluted', 'dil'), ('net', 'net'), ('income', 'income'), ('per', 'IN'), ('share', 'share'), ('$', '$'), ('0.12', 'CD'), ('fiscal', 'TIME'), ('2022.', 'CD'), ('non-gaap', 'non-gaap'), ('basic', 'basic'), ('diluted', 'dil'), ('net', 'net'), ('income', 'income'), ('per', 'IN'), ('share', 'share'), ('$', '$'), ('3.73', 'CD'), ('$', '$'), ('3.64', 'CD'), ('respectively', 'resp'), ('compared', 'VBN'), ('non-gaap', 'non-gaap'), ('basic', 'basic'), ('diluted', 'dil'), ('net', 'net'), ('income', 'income'), ('per', 'IN'), ('share', 'share'), ('$', '$'), ('4.20', 'CD'), ('$', '$'), ('3.99', 'CD'), ('respectively', 'resp'), ('prior', 'JJ'), ('year.2', 'NN'), ('operating', 'op'), ('cash', 'cash'), ('flows', 'VBZ'), ('$', '$'), ('1.66', 'CD'), ('billion', 'unit'), ('compared', 'VBN'), ('$', '$'), ('1.65', 'CD'), ('billion', 'unit'), ('prior', 'JJ'), ('year', 'TIME'), ('.', '.'), ('cash', 'cash'), ('cash', 'cash'), ('equivalents', 'NNS'), ('marketable', 'marketable'), ('securities', 'securities'), ('$', '$'), ('6.12', 'CD'), ('billion', 'unit'), ('january', 'month'), ('31', 'CD'), ('2023', 'CD'), ('.', '.')]\n"
          ]
        },
        {
          "output_type": "execute_result",
          "data": {
            "text/plain": [
              "[{'Timeline': 'fiscal 2023 fourth quarter',\n",
              "  '24-Month_Subs_Rev_Backlog': '9.68',\n",
              "  'Total_Subs_Rev_Backlog': '16.45'},\n",
              " {'Timeline': 'february 27 2023'},\n",
              " {'Timeline': 'fiscal 2023 fourth quarter'},\n",
              " {'Timeline': 'january 31 2023'}]"
            ]
          },
          "metadata": {},
          "execution_count": 285
        }
      ],
      "source": [
        "\n",
        "def metrics_info(data):\n",
        "    Total_Outlook = []\n",
        "    for i in range(len(data)):\n",
        "        if data[i] != '':\n",
        "            list_dict_chunks = metrics_CHUNK(filter_sent(word_tokenize((data[i])),model),model)\n",
        "            Total_Outlook.extend(combine_dict(list_dict_chunks))\n",
        "\n",
        "    return Total_Outlook\n",
        "\n",
        "raw_info = metrics_info(metrics_data)\n",
        "raw_info\n",
        "\n"
      ]
    },
    {
      "cell_type": "markdown",
      "metadata": {
        "id": "zMWaigutXgJl"
      },
      "source": [
        "Process function: Once all the data is in the correct dictionary, it needs to go through this process function to extract specifically the numbers. Uses the unitConversion function that's defined higher up"
      ]
    },
    {
      "cell_type": "code",
      "execution_count": 286,
      "metadata": {
        "id": "R9-iYKOCYKXG"
      },
      "outputs": [],
      "source": [
        "def process(raw_info_dict): #If you ever find an error with this function let @Maxime know ASAP\n",
        "    temp_dict = {}\n",
        "    if \"Drop\" in raw_info_dict.keys():\n",
        "      raw_info_dict.pop(\"Drop\")\n",
        "\n",
        "    if len(raw_info_dict)>1:\n",
        "        temp_dict = {}\n",
        "        temp_dict[\"Timeline\"] = raw_info_dict[\"Timeline\"]\n",
        "\n",
        "        for key, value in raw_info_dict.items():\n",
        "          value = value.replace(\"low teens\", \"11 % 13 %\")\n",
        "          value = value.replace(\"high teens\",\"17 % 19 %\" )\n",
        "          value = value.replace(\"mid teens\", \"14 % 16 %\")\n",
        "          value = re.sub(r'(\\d+)-(\\d+)', r'\\1 \\2', value)#remove dash between two numbers\n",
        "          arr = value.split()\n",
        "          prefix = 1\n",
        "          vals = []\n",
        "          if (len(arr) == 0 or key==\"Timeline\"):\n",
        "            continue\n",
        "          conversions = [] #case where there are multiple conversions in the same captured data\n",
        "          conversion = ''\n",
        "          #Find unit conversion\n",
        "          for i, elem in enumerate(arr):\n",
        "            if elem == 'breakeven' or elem == 'break-even' or elem == 'zero': #replace words meaning 0\n",
        "              arr[i] = '0'\n",
        "            if elem in unit_conv.keys():\n",
        "              conversion = elem\n",
        "              conversions.append(conversion)\n",
        "          # Check if unit conversion is in key\n",
        "          if conversion == '':\n",
        "            for word in key.split():\n",
        "              if word.replace(\"(\",\"\").replace(\")\",\"\") in unit_conv.keys(): #Replace unit conversion in key, ie. if key is \"Revenue (in millions)\", it should be \"Revenue\"\n",
        "                conversion = word.replace(\"(\",\"\").replace(\")\",\"\")\n",
        "                conversions.append(conversion)\n",
        "\n",
        "          if len(conversions) == 0:\n",
        "            conversions.append('')\n",
        "\n",
        "          if len(set(conversions)) > 1:\n",
        "            multi = True\n",
        "          else:\n",
        "            multi = False\n",
        "\n",
        "          # regex finds () and [] brackets\n",
        "          key = re.sub(\"\\(.*?\\)|\\[.*?\\]\",\"\", key)\n",
        "          #Check if numbers should be negative\n",
        "          if (\"loss\" in arr) or (\"negative\" in arr) or (\"decrease\" in arr):\n",
        "            prefix = -1\n",
        "          conv_num = 0\n",
        "          #Find values (should be 1 or 2)\n",
        "\n",
        "\n",
        "          # IMPROVED HANDLING OF NEGATIVE AND POSITIVE VALS IN SAME CHUNK - by Jack Li\n",
        "          ignore_set = ['$']\n",
        "          switch = False\n",
        "          negative = False\n",
        "          state = 0\n",
        "          for elem in arr:\n",
        "            if \"(\" in elem and state == 0:\n",
        "              state = 1\n",
        "            if (elem.replace(\".\",\"\").replace(\",\",\"\").replace(\"$\",\"\").replace('(','').replace(')','').replace('%','').isdigit() and state == 1) or (elem == 'loss' and state == 1):\n",
        "              state = 2\n",
        "            if \")\" in elem and state == 1:\n",
        "              state = 0\n",
        "            if \")\" in elem and state == 2:\n",
        "              switch = True\n",
        "              break\n",
        "\n",
        "          pos_search = False\n",
        "\n",
        "          if switch is False:\n",
        "            for elem in arr:\n",
        "              if elem == 'positive':\n",
        "                pos_search = True\n",
        "                continue\n",
        "              if pos_search:\n",
        "                if (not elem.replace(\".\",\"\").replace(\",\",\"\").replace(\"$\",\"\").replace('(','').replace(')','').replace('%','').replace('-','').replace('~','').isdigit()) and (elem not in ignore_set):\n",
        "                  pos_search = False\n",
        "\n",
        "              if elem.replace(\".\",\"\").replace(\",\",\"\").replace(\"$\",\"\").replace('(','').replace(')','').replace('%','').replace('-','').replace('~','').isdigit():\n",
        "                if pos_search:\n",
        "                  vals.append(unitConversion([elem, conversions[conv_num]]))\n",
        "                  if multi: conv_num += 1\n",
        "                  pos_search = False\n",
        "                else:\n",
        "                  vals.append(unitConversion([elem, conversions[conv_num]])*prefix)\n",
        "                  if multi: conv_num += 1\n",
        "          else:\n",
        "            for elem in arr:\n",
        "              if \"(\" in elem:\n",
        "                negative = True\n",
        "              if \")\" in elem:\n",
        "                negative = False\n",
        "              if elem.replace(\".\",\"\").replace(\",\",\"\").replace(\"$\",\"\").replace('(','').replace(')','').replace('%','').replace('-','').replace('~','').isdigit():\n",
        "                if (negative):\n",
        "                  vals.append(unitConversion([elem, conversions[conv_num]])*-1)\n",
        "                  if multi: conv_num += 1\n",
        "                else:\n",
        "                  vals.append(unitConversion([elem, conversions[conv_num]]))\n",
        "                  if multi: conv_num += 1\n",
        "\n",
        "          if max(vals)-min(vals) > 100 * unit_conv[conversion]:\n",
        "            for val in vals:\n",
        "              if val/unit_conv[conversion] in years:\n",
        "                  vals.remove(val)\n",
        "                  break\n",
        "\n",
        "          temp_dict[key] = max(vals)\n",
        "          #temp_dict[key+\" Lower\"] = min(vals)\n",
        "\n",
        "    return temp_dict"
      ]
    },
    {
      "cell_type": "markdown",
      "metadata": {
        "id": "mcaAD-3fZlbM"
      },
      "source": []
    },
    {
      "cell_type": "code",
      "execution_count": 287,
      "metadata": {
        "colab": {
          "base_uri": "https://localhost:8080/"
        },
        "id": "I7Cla6fCZhJ3",
        "outputId": "43d57be2-ba9c-472d-95d2-9760ec468416"
      },
      "outputs": [
        {
          "output_type": "execute_result",
          "data": {
            "text/plain": [
              "[{'Timeline': 'fiscal 2023 fourth quarter',\n",
              "  '24-Month_Subs_Rev_Backlog': 9.68,\n",
              "  'Total_Subs_Rev_Backlog': 16.45}]"
            ]
          },
          "metadata": {},
          "execution_count": 287
        }
      ],
      "source": [
        "def clean(raw_info):\n",
        "    Outlook = []\n",
        "    for i in range(len(raw_info)):\n",
        "        if process(raw_info[i]) != None:\n",
        "            Outlook.append(process(raw_info[i]))\n",
        "    return Outlook\n",
        "\n",
        "data = clean(raw_info)\n",
        "\n",
        "cleaned_data = [i for i in data if len(i)>1]\n",
        "cleaned_data"
      ]
    },
    {
      "cell_type": "code",
      "execution_count": 288,
      "metadata": {
        "id": "RuYcKJgyyDrm",
        "colab": {
          "base_uri": "https://localhost:8080/",
          "height": 1000
        },
        "outputId": "0941e8d3-39ef-419f-f305-9523909ec694"
      },
      "outputs": [
        {
          "output_type": "display_data",
          "data": {
            "text/plain": [
              "<Figure size 1000x600 with 1 Axes>"
            ],
            "image/png": "[encoded data removed]"
          },
          "metadata": {}
        },
        {
          "output_type": "display_data",
          "data": {
            "text/plain": [
              "<Figure size 1000x600 with 1 Axes>"
            ],
            "image/png": "[encoded data removed]"
          },
          "metadata": {}
        }
      ],
      "source": [
        "import matplotlib.pyplot as plt\n",
        "\n",
        "def create_graphs(cleaned_data):\n",
        "  \"\"\"\n",
        "  Creates graphs based on the cleaned_data.\n",
        "  \"\"\"\n",
        "  for key in set().union(*[d.keys() for d in cleaned_data if 'Timeline' in d]):\n",
        "    if key != 'Timeline':\n",
        "      timelines = []\n",
        "      values = []\n",
        "\n",
        "      for d in cleaned_data:\n",
        "        if 'Timeline' in d and key in d:\n",
        "          timelines.append(d['Timeline'])\n",
        "          values.append(d[key])\n",
        "\n",
        "      if timelines and values:  # Check if there's data to plot\n",
        "        plt.figure(figsize=(10, 6))\n",
        "        plt.plot(timelines, values, marker='o', linestyle='-')\n",
        "        plt.xlabel(\"Timeline\")\n",
        "        plt.ylabel(key)  # Use the key as the y-axis label\n",
        "        plt.title(f\"{key} over Time\")\n",
        "        plt.grid(True)\n",
        "        plt.xticks(rotation=45, ha='right')  # Rotate x-axis labels for readability\n",
        "        plt.tight_layout()\n",
        "        plt.show()\n",
        "\n",
        "# Assuming cleaned_data is defined as in the provided code\n",
        "create_graphs(cleaned_data)"
      ]
    },
    {
      "cell_type": "code",
      "execution_count": 288,
      "metadata": {
        "id": "tvuZOSB-0zXT"
      },
      "outputs": [],
      "source": []
    }
  ],
  "metadata": {
    "colab": {
      "provenance": [],
      "include_colab_link": true
    },
    "kernelspec": {
      "display_name": "Python 3",
      "name": "python3"
    },
    "language_info": {
      "name": "python"
    }
  },
  "nbformat": 4,
  "nbformat_minor": 0
}